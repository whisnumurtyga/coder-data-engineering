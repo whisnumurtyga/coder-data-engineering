{
  "cells": [
    {
      "cell_type": "markdown",
      "id": "204d1f25",
      "metadata": {
        "id": "204d1f25"
      },
      "source": [
        "# `Library Numpy`"
      ]
    },
    {
      "cell_type": "markdown",
      "id": "60afb69e",
      "metadata": {
        "id": "60afb69e"
      },
      "source": [
        "`What is Numpy ??`\n",
        "- NumPy is a Python library used for working with a multidimensional array object, various derived objects (such as masked arrays and matrices), and an assortment of routines for fast operations on arrays. It also has functions for working in domain of linear algebra, fourier transform, and matrices.\n",
        "\n",
        "- NumPy was created in 2005 by Travis Oliphant. It is an open source project and you can use it freely. NumPy stands for Numerical Python."
      ]
    },
    {
      "cell_type": "markdown",
      "id": "fff3d5c6",
      "metadata": {
        "id": "fff3d5c6"
      },
      "source": [
        "`Why Use NumPy ??`\n",
        "- In Python we have lists that serve the purpose of arrays, but they are slow to process. NumPy aims to provide an array object that is up to 50x faster than traditional Python lists.\n",
        "\n",
        "- The array object in NumPy is called ndarray, it provides a lot of supporting functions that make working with ndarray very easy. Arrays are very frequently used in data science, where speed and resources are very important."
      ]
    },
    {
      "cell_type": "markdown",
      "id": "561f0881",
      "metadata": {
        "id": "561f0881"
      },
      "source": [
        "`How to install ??`\n",
        "- pip install numpy\n",
        "- conda install numpy"
      ]
    },
    {
      "cell_type": "code",
      "execution_count": null,
      "id": "dc3ccada",
      "metadata": {
        "id": "dc3ccada"
      },
      "outputs": [],
      "source": [
        "import numpy as np"
      ]
    },
    {
      "cell_type": "code",
      "execution_count": null,
      "id": "417b4de7",
      "metadata": {
        "colab": {
          "base_uri": "https://localhost:8080/"
        },
        "id": "417b4de7",
        "outputId": "9132d354-51d7-40a7-c65e-f81d20fd77cc"
      },
      "outputs": [
        {
          "name": "stdout",
          "output_type": "stream",
          "text": [
            "1.22.4\n"
          ]
        }
      ],
      "source": [
        "print(np.__version__)"
      ]
    },
    {
      "cell_type": "markdown",
      "id": "d367a131",
      "metadata": {
        "id": "d367a131"
      },
      "source": [
        "## `Get Started With Array in Numpy`"
      ]
    },
    {
      "cell_type": "markdown",
      "id": "f62a2604",
      "metadata": {
        "id": "f62a2604"
      },
      "source": [
        "### 1. Array In Numpy"
      ]
    },
    {
      "cell_type": "code",
      "execution_count": null,
      "id": "85f66b51",
      "metadata": {
        "id": "85f66b51"
      },
      "outputs": [],
      "source": [
        "a = np.array([1,2,3,4,5,6])\n",
        "b = np.array([[1,2,3,4], [5,6,7,8]])\n",
        "c = np.array([[[2,1,9,1],[4,5,2,9]],[[8,5,0,3],[4,7,1,5]]])"
      ]
    },
    {
      "cell_type": "markdown",
      "id": "8d52172d",
      "metadata": {
        "id": "8d52172d"
      },
      "source": [
        "### 2. Print The Array"
      ]
    },
    {
      "cell_type": "code",
      "execution_count": null,
      "id": "daac008b",
      "metadata": {
        "colab": {
          "base_uri": "https://localhost:8080/"
        },
        "id": "daac008b",
        "outputId": "db47bab9-bf4f-43ea-f047-2a79ec216a87"
      },
      "outputs": [
        {
          "name": "stdout",
          "output_type": "stream",
          "text": [
            "1 Dimension : [1 2 3 4 5 6] \n",
            "\n",
            "2 Dimension :\n",
            " [[1 2 3 4]\n",
            " [5 6 7 8]] \n",
            "\n",
            "3 Dimension :\n",
            " [[[2 1 9 1]\n",
            "  [4 5 2 9]]\n",
            "\n",
            " [[8 5 0 3]\n",
            "  [4 7 1 5]]]\n"
          ]
        }
      ],
      "source": [
        "print('1 Dimension :',a,'\\n')\n",
        "print('2 Dimension :\\n',b,'\\n')\n",
        "print('3 Dimension :\\n',c)"
      ]
    },
    {
      "cell_type": "markdown",
      "id": "7672a6c2",
      "metadata": {
        "id": "7672a6c2"
      },
      "source": [
        "### 3. Checking The Type"
      ]
    },
    {
      "cell_type": "code",
      "execution_count": null,
      "id": "30194662",
      "metadata": {
        "colab": {
          "base_uri": "https://localhost:8080/"
        },
        "id": "30194662",
        "outputId": "d48a0494-be0b-49da-e4d7-feb8d56bbbe6"
      },
      "outputs": [
        {
          "name": "stdout",
          "output_type": "stream",
          "text": [
            "<class 'numpy.ndarray'>\n",
            "<class 'numpy.ndarray'>\n",
            "<class 'numpy.ndarray'>\n"
          ]
        }
      ],
      "source": [
        "print(type(a))\n",
        "print(type(b))\n",
        "print(type(c))"
      ]
    },
    {
      "cell_type": "markdown",
      "id": "d9c149f3",
      "metadata": {
        "id": "d9c149f3"
      },
      "source": [
        "### 4. Checking The Dimension in Arrays"
      ]
    },
    {
      "cell_type": "code",
      "execution_count": null,
      "id": "e0214e80",
      "metadata": {
        "colab": {
          "base_uri": "https://localhost:8080/"
        },
        "id": "e0214e80",
        "outputId": "aa9a5fd2-b561-47e1-fed6-8f940a03141b"
      },
      "outputs": [
        {
          "name": "stdout",
          "output_type": "stream",
          "text": [
            "1 2 3 0\n"
          ]
        }
      ],
      "source": [
        "d = np.array(24)\n",
        "print(a.ndim, b.ndim, c.ndim, d.ndim)"
      ]
    },
    {
      "cell_type": "markdown",
      "id": "148abb8b",
      "metadata": {
        "id": "148abb8b"
      },
      "source": [
        "### 5. Numpy Array Indexing"
      ]
    },
    {
      "cell_type": "code",
      "execution_count": null,
      "id": "3e8cf005",
      "metadata": {
        "colab": {
          "base_uri": "https://localhost:8080/"
        },
        "id": "3e8cf005",
        "outputId": "1f71e1e3-d324-49ec-cc4e-cea7fc0ae423"
      },
      "outputs": [
        {
          "name": "stdout",
          "output_type": "stream",
          "text": [
            "[1 2 3 4 5 6]\n"
          ]
        }
      ],
      "source": [
        "print(a)"
      ]
    },
    {
      "cell_type": "code",
      "execution_count": null,
      "id": "46426e27",
      "metadata": {
        "colab": {
          "base_uri": "https://localhost:8080/"
        },
        "id": "46426e27",
        "outputId": "a2cccc37-6cad-4cb6-81ce-300caa7edafc"
      },
      "outputs": [
        {
          "name": "stdout",
          "output_type": "stream",
          "text": [
            "4\n"
          ]
        }
      ],
      "source": [
        "print(a[3])"
      ]
    },
    {
      "cell_type": "code",
      "execution_count": null,
      "id": "2b448cc7",
      "metadata": {
        "colab": {
          "base_uri": "https://localhost:8080/"
        },
        "id": "2b448cc7",
        "outputId": "8abf4ccd-3dab-4f93-e3c4-91b6859e6754"
      },
      "outputs": [
        {
          "name": "stdout",
          "output_type": "stream",
          "text": [
            "[[1 2 3 4]\n",
            " [5 6 7 8]]\n"
          ]
        }
      ],
      "source": [
        "print(b)"
      ]
    },
    {
      "cell_type": "code",
      "execution_count": null,
      "id": "c190d5c2",
      "metadata": {
        "colab": {
          "base_uri": "https://localhost:8080/"
        },
        "id": "c190d5c2",
        "outputId": "96397d6b-95ea-4c91-a869-0cefc774f93b"
      },
      "outputs": [
        {
          "name": "stdout",
          "output_type": "stream",
          "text": [
            "8\n"
          ]
        }
      ],
      "source": [
        "print(b[1,3])"
      ]
    },
    {
      "cell_type": "code",
      "execution_count": null,
      "id": "8ec53f88",
      "metadata": {
        "colab": {
          "base_uri": "https://localhost:8080/"
        },
        "id": "8ec53f88",
        "outputId": "cdc74503-27e0-42f1-8efe-5937b81396fc"
      },
      "outputs": [
        {
          "name": "stdout",
          "output_type": "stream",
          "text": [
            "[[[2 1 9 1]\n",
            "  [4 5 2 9]]\n",
            "\n",
            " [[8 5 0 3]\n",
            "  [4 7 1 5]]]\n"
          ]
        }
      ],
      "source": [
        "print(c)"
      ]
    },
    {
      "cell_type": "code",
      "execution_count": null,
      "id": "b56ac195",
      "metadata": {
        "colab": {
          "base_uri": "https://localhost:8080/"
        },
        "id": "b56ac195",
        "outputId": "70a38f96-adc1-48e9-c906-cae01cc17cf2"
      },
      "outputs": [
        {
          "name": "stdout",
          "output_type": "stream",
          "text": [
            "2\n"
          ]
        }
      ],
      "source": [
        "print(c[0,1,2])"
      ]
    },
    {
      "cell_type": "markdown",
      "id": "5bf64a8e",
      "metadata": {
        "id": "5bf64a8e"
      },
      "source": [
        "### 6. Data types in Numpy\n",
        "\n",
        "`Numpy has some extra data types, and refer to data types with one character, like i for integers, u for unsigned integers etc.`\n",
        "- i => integer\n",
        "- b => Boolean\n",
        "- u => unsigned integer\n",
        "- f => float\n",
        "- c => complex float\n",
        "- S => string\n",
        "- m => timedelta"
      ]
    },
    {
      "cell_type": "code",
      "execution_count": null,
      "id": "b73c50e8",
      "metadata": {
        "colab": {
          "base_uri": "https://localhost:8080/"
        },
        "id": "b73c50e8",
        "outputId": "f40de756-290e-403e-9a82-e8a44c9fb1be"
      },
      "outputs": [
        {
          "name": "stdout",
          "output_type": "stream",
          "text": [
            "int64\n",
            "<U6\n"
          ]
        }
      ],
      "source": [
        "x = np.array([1,2,3,4,5,6,7,8,9])\n",
        "print(x.dtype)\n",
        "y = np.array(['Yudi', 'Budi', 'Candra'])\n",
        "print(y.dtype)"
      ]
    },
    {
      "cell_type": "code",
      "execution_count": null,
      "id": "d710687e",
      "metadata": {
        "colab": {
          "base_uri": "https://localhost:8080/"
        },
        "id": "d710687e",
        "outputId": "b582dd7e-62e8-4751-9cd1-655e23da027c"
      },
      "outputs": [
        {
          "name": "stdout",
          "output_type": "stream",
          "text": [
            "int32\n"
          ]
        }
      ],
      "source": [
        "t = np.array([5.7,4.2,8.4])\n",
        "# print(t.dtype)\n",
        "t = t.astype('i')\n",
        "print(t.dtype)"
      ]
    },
    {
      "cell_type": "markdown",
      "id": "4af70873",
      "metadata": {
        "id": "4af70873"
      },
      "source": [
        "### 7. Shape and Reshape"
      ]
    },
    {
      "cell_type": "markdown",
      "id": "1cb4d1bd",
      "metadata": {
        "id": "1cb4d1bd"
      },
      "source": [
        "`The shape of an array is the number of\n",
        "elements in each dimension.`\n",
        "- NumPy arrays have an attribute called\n",
        "shape that returns a tuple with each\n",
        "index having the number of\n",
        "corresponding elements.\n",
        "- Reshaping means changing the shape\n",
        "of an array."
      ]
    },
    {
      "cell_type": "code",
      "execution_count": null,
      "id": "a7670bf4",
      "metadata": {
        "colab": {
          "base_uri": "https://localhost:8080/"
        },
        "id": "a7670bf4",
        "outputId": "cc82539d-1b38-4654-e7a2-abfa3da0be09"
      },
      "outputs": [
        {
          "data": {
            "text/plain": [
              "array([[[2, 1, 9, 1],\n",
              "        [4, 5, 2, 9]],\n",
              "\n",
              "       [[8, 5, 0, 3],\n",
              "        [4, 7, 1, 5]]])"
            ]
          },
          "execution_count": 16,
          "metadata": {},
          "output_type": "execute_result"
        }
      ],
      "source": [
        "c"
      ]
    },
    {
      "cell_type": "code",
      "execution_count": null,
      "id": "8b8a1a5d",
      "metadata": {
        "colab": {
          "base_uri": "https://localhost:8080/"
        },
        "id": "8b8a1a5d",
        "outputId": "3f77ba13-f4ca-460a-8311-421a9cf96730"
      },
      "outputs": [
        {
          "name": "stdout",
          "output_type": "stream",
          "text": [
            "(6,)\n",
            "(Columns,) \n",
            "\n",
            "(2, 4)\n",
            "(Rows, Columns) \n",
            "\n",
            "(2, 2, 4)\n",
            "(Dimension, Rows, Columns)\n"
          ]
        }
      ],
      "source": [
        "print(a.shape)\n",
        "print('(Columns,)', '\\n')\n",
        "print(b.shape)\n",
        "print('(Rows, Columns)', '\\n')\n",
        "print(c.shape)\n",
        "print('(Dimension, Rows, Columns)')"
      ]
    },
    {
      "cell_type": "code",
      "execution_count": null,
      "id": "cc7d247a",
      "metadata": {
        "colab": {
          "base_uri": "https://localhost:8080/"
        },
        "id": "cc7d247a",
        "outputId": "054894a4-fa65-4db1-ef50-7da64c50ce98"
      },
      "outputs": [
        {
          "name": "stdout",
          "output_type": "stream",
          "text": [
            "[[1 2]\n",
            " [3 4]\n",
            " [5 6]]\n"
          ]
        }
      ],
      "source": [
        "print(a.reshape(3,2))"
      ]
    },
    {
      "cell_type": "code",
      "execution_count": null,
      "id": "a3a91d3c",
      "metadata": {
        "colab": {
          "base_uri": "https://localhost:8080/"
        },
        "id": "a3a91d3c",
        "outputId": "adf49b17-9112-4e81-9208-5d6bb9dc7223"
      },
      "outputs": [
        {
          "name": "stdout",
          "output_type": "stream",
          "text": [
            "[1 2 3 4 5 6]\n"
          ]
        }
      ],
      "source": [
        "print(a.reshape(-1))"
      ]
    },
    {
      "cell_type": "markdown",
      "id": "9e9e0c80",
      "metadata": {
        "id": "9e9e0c80"
      },
      "source": [
        "### 8. Iterating In Array"
      ]
    },
    {
      "cell_type": "code",
      "execution_count": null,
      "id": "ec370032",
      "metadata": {
        "colab": {
          "base_uri": "https://localhost:8080/"
        },
        "id": "ec370032",
        "outputId": "40e71657-aa00-40ef-c015-c2f00111e04c"
      },
      "outputs": [
        {
          "data": {
            "text/plain": [
              "array([1, 2, 3, 4, 5, 6])"
            ]
          },
          "execution_count": 20,
          "metadata": {},
          "output_type": "execute_result"
        }
      ],
      "source": [
        "a"
      ]
    },
    {
      "cell_type": "code",
      "execution_count": null,
      "id": "c4239d70",
      "metadata": {
        "colab": {
          "base_uri": "https://localhost:8080/"
        },
        "id": "c4239d70",
        "outputId": "16f3913c-31dc-4efb-c46a-6506a002880d"
      },
      "outputs": [
        {
          "name": "stdout",
          "output_type": "stream",
          "text": [
            "3\n",
            "4\n",
            "5\n",
            "6\n",
            "7\n",
            "8\n"
          ]
        }
      ],
      "source": [
        "for ANGKA2 in a :\n",
        "    print(ANGKA2+2)"
      ]
    },
    {
      "cell_type": "code",
      "execution_count": null,
      "id": "3c01be0e",
      "metadata": {
        "colab": {
          "base_uri": "https://localhost:8080/"
        },
        "id": "3c01be0e",
        "outputId": "9ec1e482-0cbc-4903-b554-7a70bc260042"
      },
      "outputs": [
        {
          "data": {
            "text/plain": [
              "array([[1, 2, 3, 4],\n",
              "       [5, 6, 7, 8]])"
            ]
          },
          "execution_count": 22,
          "metadata": {},
          "output_type": "execute_result"
        }
      ],
      "source": [
        "b"
      ]
    },
    {
      "cell_type": "code",
      "execution_count": null,
      "id": "f29a643e",
      "metadata": {
        "colab": {
          "base_uri": "https://localhost:8080/"
        },
        "id": "f29a643e",
        "outputId": "95c56d8d-410d-44c0-c7e0-331075a31e7d"
      },
      "outputs": [
        {
          "name": "stdout",
          "output_type": "stream",
          "text": [
            "1\n",
            "2\n",
            "3\n",
            "4\n",
            "5\n",
            "6\n",
            "7\n",
            "8\n"
          ]
        }
      ],
      "source": [
        "for ANGKA2 in b :\n",
        "#     print(ANGKA2)\n",
        "    for angkadidalam in ANGKA2 :\n",
        "        print(angkadidalam)"
      ]
    },
    {
      "cell_type": "code",
      "execution_count": null,
      "id": "b495c627",
      "metadata": {
        "colab": {
          "base_uri": "https://localhost:8080/"
        },
        "id": "b495c627",
        "outputId": "0fad2557-0ff3-451c-8b44-b79a62349688"
      },
      "outputs": [
        {
          "data": {
            "text/plain": [
              "array([[[2, 1, 9, 1],\n",
              "        [4, 5, 2, 9]],\n",
              "\n",
              "       [[8, 5, 0, 3],\n",
              "        [4, 7, 1, 5]]])"
            ]
          },
          "execution_count": 24,
          "metadata": {},
          "output_type": "execute_result"
        }
      ],
      "source": [
        "c"
      ]
    },
    {
      "cell_type": "code",
      "execution_count": null,
      "id": "05b8bb47",
      "metadata": {
        "colab": {
          "base_uri": "https://localhost:8080/"
        },
        "id": "05b8bb47",
        "outputId": "b1abebff-e46f-4721-a880-87333e6351ae"
      },
      "outputs": [
        {
          "name": "stdout",
          "output_type": "stream",
          "text": [
            "[2 1 9 1]\n",
            "[4 5 2 9]\n",
            "[8 5 0 3]\n",
            "[4 7 1 5]\n"
          ]
        }
      ],
      "source": [
        "for x in c:\n",
        "#     print(x)\n",
        "    for y in x:\n",
        "        print(y)"
      ]
    },
    {
      "cell_type": "markdown",
      "id": "001ca1a9",
      "metadata": {
        "id": "001ca1a9"
      },
      "source": [
        "### 9. Iterating Array Using nditer\n",
        "\n",
        "The function nditer() is a helping\n",
        "function that can be used from very\n",
        "basic to very advanced iterations. It\n",
        "solves some basic issues which we\n",
        "face in iteration which is when we iterate array with very high dimensionality."
      ]
    },
    {
      "cell_type": "code",
      "execution_count": null,
      "id": "7032f747",
      "metadata": {
        "colab": {
          "base_uri": "https://localhost:8080/"
        },
        "id": "7032f747",
        "outputId": "5c92060f-ca41-479c-e8ae-53f8c1bf7987"
      },
      "outputs": [
        {
          "data": {
            "text/plain": [
              "array([[[2, 1, 9, 1],\n",
              "        [4, 5, 2, 9]],\n",
              "\n",
              "       [[8, 5, 0, 3],\n",
              "        [4, 7, 1, 5]]])"
            ]
          },
          "execution_count": 26,
          "metadata": {},
          "output_type": "execute_result"
        }
      ],
      "source": [
        "c"
      ]
    },
    {
      "cell_type": "code",
      "execution_count": null,
      "id": "44b05ece",
      "metadata": {
        "colab": {
          "base_uri": "https://localhost:8080/"
        },
        "id": "44b05ece",
        "outputId": "3597e033-d1f3-43af-de30-b6ff44f77004"
      },
      "outputs": [
        {
          "name": "stdout",
          "output_type": "stream",
          "text": [
            "2\n",
            "1\n",
            "9\n",
            "1\n",
            "4\n",
            "5\n",
            "2\n",
            "9\n",
            "8\n",
            "5\n",
            "0\n",
            "3\n",
            "4\n",
            "7\n",
            "1\n",
            "5\n"
          ]
        }
      ],
      "source": [
        "for x in np.nditer(c):\n",
        "    print(x)"
      ]
    },
    {
      "cell_type": "markdown",
      "id": "f3681cde",
      "metadata": {
        "id": "f3681cde"
      },
      "source": [
        "### 10. Joining Arrays"
      ]
    },
    {
      "cell_type": "markdown",
      "id": "efcdbfd9",
      "metadata": {
        "id": "efcdbfd9"
      },
      "source": [
        "`Concatenation` refers to putting the contents of `two or more` arrays in a single array. In Python NumPy, we can `join arrays` by axes (vertical or horizontal), whereas in SQL we join tables based on keys.\n",
        "\n",
        "    ~ Join array must have some dimension"
      ]
    },
    {
      "cell_type": "code",
      "execution_count": null,
      "id": "224ed66d",
      "metadata": {
        "id": "224ed66d"
      },
      "outputs": [],
      "source": [
        "arr1 = np.array([7, 4, 10])\n",
        "arr2 = np.array([6, 5, 3])\n",
        "arr3 = np.array([[1,2,3],[4,5,6]])\n",
        "arr4 = np.array([[6, 5, 3],[2,7,8]])\n",
        "arr5 = np.array([[1,2],[5,6],[9,10],[13,17],[19,21],[24,27]])"
      ]
    },
    {
      "cell_type": "code",
      "execution_count": null,
      "id": "a4bb132c",
      "metadata": {
        "colab": {
          "base_uri": "https://localhost:8080/"
        },
        "id": "a4bb132c",
        "outputId": "fc0f637d-1dfc-49f0-83d5-ddf061dd7b91"
      },
      "outputs": [
        {
          "data": {
            "text/plain": [
              "array([ 6,  5,  3,  7,  4, 10])"
            ]
          },
          "execution_count": 29,
          "metadata": {},
          "output_type": "execute_result"
        }
      ],
      "source": [
        "# Example 1: Use concatenate() to join two arrays\n",
        "Join1 = np.concatenate((arr2, arr1))\n",
        "Join1"
      ]
    },
    {
      "cell_type": "code",
      "execution_count": null,
      "id": "29bdd98f",
      "metadata": {
        "colab": {
          "base_uri": "https://localhost:8080/"
        },
        "id": "29bdd98f",
        "outputId": "ba6022d7-8bc8-4560-8927-533fddba4fa5"
      },
      "outputs": [
        {
          "name": "stdout",
          "output_type": "stream",
          "text": [
            "[[1 2 3]\n",
            " [4 5 6]] \n",
            " [[6 5 3]\n",
            " [2 7 8]]\n"
          ]
        }
      ],
      "source": [
        "print(arr3,'\\n', arr4)"
      ]
    },
    {
      "cell_type": "code",
      "execution_count": null,
      "id": "7033f51b",
      "metadata": {
        "colab": {
          "base_uri": "https://localhost:8080/"
        },
        "id": "7033f51b",
        "outputId": "145ac91d-a29e-41f2-f0c7-eb1ca8b2e42f"
      },
      "outputs": [
        {
          "name": "stdout",
          "output_type": "stream",
          "text": [
            "[[1 2 3 6 5 3]\n",
            " [4 5 6 2 7 8]]\n"
          ]
        }
      ],
      "source": [
        "# Example 2: Use concatenate() with axis (for dimension more than 1, we use axis=1)\n",
        "Join2 = np.concatenate((arr3, arr4), axis=1)\n",
        "print(Join2)"
      ]
    },
    {
      "cell_type": "code",
      "execution_count": null,
      "id": "ed7fdbe6",
      "metadata": {
        "colab": {
          "base_uri": "https://localhost:8080/"
        },
        "id": "ed7fdbe6",
        "outputId": "07ffd3c1-5020-4b74-c39f-502eedfb9dd7"
      },
      "outputs": [
        {
          "name": "stdout",
          "output_type": "stream",
          "text": [
            "[[[1 2 3]\n",
            "  [6 5 3]]\n",
            "\n",
            " [[4 5 6]\n",
            "  [2 7 8]]]\n"
          ]
        }
      ],
      "source": [
        "# Example 3: Use np.stack() function to Join Arrays\n",
        "# Joining 2 array and increase the dimension into next dimension. If u join array with both 2 dimension and it will be 3 dimension, etc\n",
        "\n",
        "Join3 = np.stack((arr3, arr4), axis=1)\n",
        "print(Join3)"
      ]
    },
    {
      "cell_type": "code",
      "execution_count": null,
      "id": "af3e7447",
      "metadata": {
        "colab": {
          "base_uri": "https://localhost:8080/"
        },
        "id": "af3e7447",
        "outputId": "92969a4f-6d88-48e9-d5f4-3b6bdb8f1eb0"
      },
      "outputs": [
        {
          "data": {
            "text/plain": [
              "array([ 7,  4, 10])"
            ]
          },
          "execution_count": 33,
          "metadata": {},
          "output_type": "execute_result"
        }
      ],
      "source": [
        "arr1"
      ]
    },
    {
      "cell_type": "code",
      "execution_count": null,
      "id": "cca2e7a5",
      "metadata": {
        "colab": {
          "base_uri": "https://localhost:8080/"
        },
        "id": "cca2e7a5",
        "outputId": "1c52e5d9-a98f-466b-fe1f-29a378d5fb69"
      },
      "outputs": [
        {
          "data": {
            "text/plain": [
              "array([6, 5, 3])"
            ]
          },
          "execution_count": 34,
          "metadata": {},
          "output_type": "execute_result"
        }
      ],
      "source": [
        "arr2"
      ]
    },
    {
      "cell_type": "code",
      "execution_count": null,
      "id": "ed3abe76",
      "metadata": {
        "colab": {
          "base_uri": "https://localhost:8080/"
        },
        "id": "ed3abe76",
        "outputId": "e7714a79-6c1c-4949-c1e3-b252ad75104b"
      },
      "outputs": [
        {
          "name": "stdout",
          "output_type": "stream",
          "text": [
            "[ 7  4 10  6  5  3]\n"
          ]
        }
      ],
      "source": [
        "# Example 4: Use np.hstack() function\n",
        "Join4 = np.hstack((arr1, arr2))\n",
        "print(Join4)"
      ]
    },
    {
      "cell_type": "code",
      "execution_count": null,
      "id": "31c281ae",
      "metadata": {
        "colab": {
          "base_uri": "https://localhost:8080/"
        },
        "id": "31c281ae",
        "outputId": "7d168b73-393c-4207-e9f3-769dedfe2ac7"
      },
      "outputs": [
        {
          "name": "stdout",
          "output_type": "stream",
          "text": [
            "[[ 7  4 10]\n",
            " [ 6  5  3]]\n"
          ]
        }
      ],
      "source": [
        "# Example 5: Use np.vstack() function \n",
        "Join5 = np.vstack((arr1, arr2))\n",
        "print(Join5)"
      ]
    },
    {
      "cell_type": "code",
      "execution_count": null,
      "id": "e60bc6d6",
      "metadata": {
        "colab": {
          "base_uri": "https://localhost:8080/"
        },
        "id": "e60bc6d6",
        "outputId": "fa12f65c-4f59-492c-aae6-22e900777754"
      },
      "outputs": [
        {
          "name": "stdout",
          "output_type": "stream",
          "text": [
            "[[1 2 3]\n",
            " [4 5 6]] \n",
            "\n",
            "[[6 5 3]\n",
            " [2 7 8]]\n"
          ]
        }
      ],
      "source": [
        "print(arr3,'\\n')\n",
        "print(arr4)"
      ]
    },
    {
      "cell_type": "code",
      "execution_count": null,
      "id": "4a7d46c8",
      "metadata": {
        "colab": {
          "base_uri": "https://localhost:8080/"
        },
        "id": "4a7d46c8",
        "outputId": "5689bca0-cfa8-46e9-ba0e-2e4273cda5db"
      },
      "outputs": [
        {
          "name": "stdout",
          "output_type": "stream",
          "text": [
            "[[[1 6]\n",
            "  [2 5]\n",
            "  [3 3]]\n",
            "\n",
            " [[4 2]\n",
            "  [5 7]\n",
            "  [6 8]]]\n"
          ]
        }
      ],
      "source": [
        "# Example 6: Use np.dstack() function to Stacking Along Height (depth)\n",
        "con = np.dstack((arr3, arr4))\n",
        "print(con)"
      ]
    },
    {
      "cell_type": "markdown",
      "id": "63bd6e14",
      "metadata": {
        "id": "63bd6e14"
      },
      "source": [
        "### 11. Splitting Arrays"
      ]
    },
    {
      "cell_type": "code",
      "execution_count": null,
      "id": "b95c5b2e",
      "metadata": {
        "colab": {
          "base_uri": "https://localhost:8080/"
        },
        "id": "b95c5b2e",
        "outputId": "eec7fcaa-5b87-486e-8d3b-f3b85e2ce15a"
      },
      "outputs": [
        {
          "data": {
            "text/plain": [
              "array([ 7,  4, 10])"
            ]
          },
          "execution_count": 39,
          "metadata": {},
          "output_type": "execute_result"
        }
      ],
      "source": [
        "arr1"
      ]
    },
    {
      "cell_type": "code",
      "execution_count": null,
      "id": "52140c60",
      "metadata": {
        "colab": {
          "base_uri": "https://localhost:8080/"
        },
        "id": "52140c60",
        "outputId": "eb55ce61-1834-403e-e1f7-480475173d05"
      },
      "outputs": [
        {
          "name": "stdout",
          "output_type": "stream",
          "text": [
            "[array([7]), array([4]), array([10])]\n"
          ]
        },
        {
          "data": {
            "text/plain": [
              "array([ 7,  4, 10])"
            ]
          },
          "execution_count": 40,
          "metadata": {},
          "output_type": "execute_result"
        }
      ],
      "source": [
        "print(np.array_split(arr1,3))\n",
        "arr1"
      ]
    },
    {
      "cell_type": "code",
      "execution_count": null,
      "id": "fc3f0b17",
      "metadata": {
        "colab": {
          "base_uri": "https://localhost:8080/"
        },
        "id": "fc3f0b17",
        "outputId": "2ce4ea74-49da-4831-db7a-675893c9a4db"
      },
      "outputs": [
        {
          "data": {
            "text/plain": [
              "array([[ 1,  2],\n",
              "       [ 5,  6],\n",
              "       [ 9, 10],\n",
              "       [13, 17],\n",
              "       [19, 21],\n",
              "       [24, 27]])"
            ]
          },
          "execution_count": 41,
          "metadata": {},
          "output_type": "execute_result"
        }
      ],
      "source": [
        "arr5"
      ]
    },
    {
      "cell_type": "code",
      "execution_count": null,
      "id": "b46b67ed",
      "metadata": {
        "colab": {
          "base_uri": "https://localhost:8080/"
        },
        "id": "b46b67ed",
        "outputId": "932b3c5a-2737-4d24-9001-eee7bc36cbe4"
      },
      "outputs": [
        {
          "name": "stdout",
          "output_type": "stream",
          "text": [
            "[array([[1, 2],\n",
            "       [5, 6]]), array([[ 9, 10],\n",
            "       [13, 17]]), array([[19, 21],\n",
            "       [24, 27]])]\n"
          ]
        },
        {
          "data": {
            "text/plain": [
              "array([[ 1,  2],\n",
              "       [ 5,  6],\n",
              "       [ 9, 10],\n",
              "       [13, 17],\n",
              "       [19, 21],\n",
              "       [24, 27]])"
            ]
          },
          "execution_count": 42,
          "metadata": {},
          "output_type": "execute_result"
        }
      ],
      "source": [
        "print(np.array_split(arr5,3))\n",
        "arr5"
      ]
    },
    {
      "cell_type": "markdown",
      "id": "6aec3a8c",
      "metadata": {
        "id": "6aec3a8c"
      },
      "source": [
        "### 12. Searching Arrays\n",
        "\n",
        "`Where()` is used for `searching` a `certain value` and return the `indexes` that get a match"
      ]
    },
    {
      "cell_type": "code",
      "execution_count": null,
      "id": "f879301c",
      "metadata": {
        "colab": {
          "base_uri": "https://localhost:8080/"
        },
        "id": "f879301c",
        "outputId": "e66dd42b-eede-41d0-810b-acdb5aa43b64"
      },
      "outputs": [
        {
          "name": "stdout",
          "output_type": "stream",
          "text": [
            "(array([3, 5, 7]),)\n"
          ]
        }
      ],
      "source": [
        "a = np.array([1,2,3,4,5,4,7,4,9,10])\n",
        "print(np.where(a==4))"
      ]
    },
    {
      "cell_type": "code",
      "execution_count": null,
      "id": "a83179eb",
      "metadata": {
        "id": "a83179eb"
      },
      "outputs": [],
      "source": [
        "# Algoritma Searching python"
      ]
    },
    {
      "cell_type": "code",
      "execution_count": null,
      "id": "6467c694",
      "metadata": {
        "colab": {
          "base_uri": "https://localhost:8080/"
        },
        "id": "6467c694",
        "outputId": "da31d266-09c9-4146-a7b4-baf0e84d11f1"
      },
      "outputs": [
        {
          "name": "stdout",
          "output_type": "stream",
          "text": [
            "8\n"
          ]
        }
      ],
      "source": [
        "# We use searchsorted() which performs a linear search. So it return index from the first match value\n",
        "\n",
        "a = np.array([1,1,2,2,4,5,5,7,8,8])\n",
        "print(np.searchsorted(a, 8))"
      ]
    },
    {
      "cell_type": "markdown",
      "id": "ec5c1da6",
      "metadata": {
        "id": "ec5c1da6"
      },
      "source": [
        "### 13.Sorting Arrays\n",
        "\n",
        "`np.random.randint` is used for resulting a random number with `max` and `min value` of number. And it can make `not just 1 dimension array`."
      ]
    },
    {
      "cell_type": "code",
      "execution_count": null,
      "id": "50b69864",
      "metadata": {
        "colab": {
          "base_uri": "https://localhost:8080/"
        },
        "id": "50b69864",
        "outputId": "21b728ea-3452-45da-b6fc-b5a78f787201"
      },
      "outputs": [
        {
          "name": "stdout",
          "output_type": "stream",
          "text": [
            "[[4 3 2 4]\n",
            " [1 0 3 4]] \n",
            "\n",
            "[[2 3 4 4]\n",
            " [0 1 3 4]]\n"
          ]
        }
      ],
      "source": [
        "a = np.random.randint(5, size=(2, 4))\n",
        "print(a,'\\n')\n",
        "print(np.sort(a))"
      ]
    },
    {
      "cell_type": "markdown",
      "id": "b6d44ac4",
      "metadata": {
        "id": "b6d44ac4"
      },
      "source": [
        "### 14. Filtering Arrays"
      ]
    },
    {
      "cell_type": "code",
      "execution_count": null,
      "id": "7f126f03",
      "metadata": {
        "colab": {
          "base_uri": "https://localhost:8080/"
        },
        "id": "7f126f03",
        "outputId": "aa510944-9c03-4d20-e714-66157f90ca79"
      },
      "outputs": [
        {
          "name": "stdout",
          "output_type": "stream",
          "text": [
            "This is list : [1 5]\n",
            "This is not a list : 1 2 5\n"
          ]
        }
      ],
      "source": [
        "a = np.array([1,2,5])\n",
        "Index = [True, False, True]\n",
        "print('This is list :', a[Index])\n",
        "\n",
        "print('This is not a list :', a[0], a[1], a[2])"
      ]
    },
    {
      "cell_type": "markdown",
      "id": "3a2324ac",
      "metadata": {
        "id": "3a2324ac"
      },
      "source": [
        "### Get product in array\n",
        "\n",
        "To `find` the `product` of the `elements in an array`, use the `prod()` function.\n",
        "\n",
        "A `product` in `math` is defined as the `result of two or more numbers when multiplied together`."
      ]
    },
    {
      "cell_type": "code",
      "execution_count": null,
      "id": "0ea0f1ca",
      "metadata": {
        "colab": {
          "base_uri": "https://localhost:8080/"
        },
        "id": "0ea0f1ca",
        "outputId": "110affc2-3ec1-414e-ef87-ba6c703d1465"
      },
      "outputs": [
        {
          "name": "stdout",
          "output_type": "stream",
          "text": [
            "120\n"
          ]
        }
      ],
      "source": [
        "a= np.array([1,2,3,4,5])\n",
        "print(np.prod(a))"
      ]
    },
    {
      "cell_type": "code",
      "execution_count": null,
      "id": "1f702b29",
      "metadata": {
        "colab": {
          "base_uri": "https://localhost:8080/"
        },
        "id": "1f702b29",
        "outputId": "a33f5af5-c0aa-4e44-9897-561f31d49156"
      },
      "outputs": [
        {
          "name": "stdout",
          "output_type": "stream",
          "text": [
            "[  1   2   6  24 120]\n"
          ]
        }
      ],
      "source": [
        "a= np.array([1,2,3,4,5])\n",
        "print(np.cumprod(a))"
      ]
    },
    {
      "cell_type": "markdown",
      "id": "d638a706",
      "metadata": {
        "id": "d638a706"
      },
      "source": [
        "### Rounding Decimals\n",
        "\n",
        "There are `primarily five ways` of\n",
        "`rounding off decimals` in `NumPy`:\n",
        "\n",
        "- `Truncation` => To `remove` the `decimals` and return the float number `closest to Zero`\n",
        "\n",
        "- `Fix` => Same with Truncation\n",
        "- `Rounding` = Round the decimals\n",
        "- `Floor` => rounds off decimal to nearest upper integer.\n",
        "- `Ceil` => rounds off decimal to nearest loweer integer."
      ]
    },
    {
      "cell_type": "code",
      "execution_count": null,
      "id": "cc6714e7",
      "metadata": {
        "id": "cc6714e7"
      },
      "outputs": [],
      "source": [
        "deci = np.array([5.768, 4.285, 8.470, 10.585, 85.456, 10.5])"
      ]
    },
    {
      "cell_type": "code",
      "execution_count": null,
      "id": "ba547061",
      "metadata": {
        "colab": {
          "base_uri": "https://localhost:8080/"
        },
        "id": "ba547061",
        "outputId": "6bac5773-43a2-493b-9e21-24be0cf46520"
      },
      "outputs": [
        {
          "data": {
            "text/plain": [
              "array([ 6.,  5.,  9., 11., 86., 11.])"
            ]
          },
          "execution_count": 52,
          "metadata": {},
          "output_type": "execute_result"
        }
      ],
      "source": [
        "#rounds off decimal to nearest upper integer.\n",
        "\n",
        "np.ceil(deci)"
      ]
    },
    {
      "cell_type": "code",
      "execution_count": null,
      "id": "ca35e72b",
      "metadata": {
        "colab": {
          "base_uri": "https://localhost:8080/"
        },
        "id": "ca35e72b",
        "outputId": "b9834664-157b-4b11-93bf-e2be20d9a03d"
      },
      "outputs": [
        {
          "data": {
            "text/plain": [
              "array([ 5.,  4.,  8., 10., 85., 10.])"
            ]
          },
          "execution_count": 53,
          "metadata": {},
          "output_type": "execute_result"
        }
      ],
      "source": [
        "# rounds off decimal to nearest lower integer.\n",
        "\n",
        "np.floor(deci)"
      ]
    },
    {
      "cell_type": "code",
      "execution_count": null,
      "id": "9eb40537",
      "metadata": {
        "colab": {
          "base_uri": "https://localhost:8080/"
        },
        "id": "9eb40537",
        "outputId": "cdf2034c-6431-4740-9e0f-229b10a6ab45"
      },
      "outputs": [
        {
          "data": {
            "text/plain": [
              "array([ 5.,  4.,  8., 10., 85., 10.])"
            ]
          },
          "execution_count": 54,
          "metadata": {},
          "output_type": "execute_result"
        }
      ],
      "source": [
        "# Remove the decimals and return the float number closest to zero\n",
        "\n",
        "np.trunc(deci)\n",
        "np.fix(deci)"
      ]
    },
    {
      "cell_type": "code",
      "execution_count": null,
      "id": "5682e79b",
      "metadata": {
        "colab": {
          "base_uri": "https://localhost:8080/"
        },
        "id": "5682e79b",
        "outputId": "5ebae6bc-2153-4ee7-fe95-258ee4bd0385"
      },
      "outputs": [
        {
          "data": {
            "text/plain": [
              "array([50.,  5., 10.])"
            ]
          },
          "execution_count": 55,
          "metadata": {},
          "output_type": "execute_result"
        }
      ],
      "source": [
        "deci2 = np.array([50.45, 4.585567, 10.50])\n",
        "np.around(deci2)"
      ]
    },
    {
      "cell_type": "markdown",
      "id": "9e1ad3d6",
      "metadata": {
        "id": "9e1ad3d6"
      },
      "source": [
        "## `Numpy Random`\n",
        "\n",
        "`Random number` does `NOT mean a different number` every time. `Random means` something that `can not be predicted logically`\n",
        "\n",
        "_`Random is not a unique number :)`_"
      ]
    },
    {
      "cell_type": "markdown",
      "id": "d0c632f1",
      "metadata": {
        "id": "d0c632f1"
      },
      "source": [
        "### 1. Random.randint()\n",
        "\n",
        "`Generate a random integer` from `x` to `n` values."
      ]
    },
    {
      "cell_type": "code",
      "execution_count": null,
      "id": "53018c6d",
      "metadata": {
        "colab": {
          "base_uri": "https://localhost:8080/"
        },
        "id": "53018c6d",
        "outputId": "fe2ff14a-6300-400f-b232-438797aa01bf"
      },
      "outputs": [
        {
          "name": "stdout",
          "output_type": "stream",
          "text": [
            "87 47 6 9 29 "
          ]
        }
      ],
      "source": [
        "for i in range(5):\n",
        "    print(np.random.randint(0,100), '', end = \"\")"
      ]
    },
    {
      "cell_type": "code",
      "execution_count": null,
      "id": "8686a57f",
      "metadata": {
        "colab": {
          "base_uri": "https://localhost:8080/"
        },
        "id": "8686a57f",
        "outputId": "bc8d1942-18e5-4b61-8ca7-6fe871427acf"
      },
      "outputs": [
        {
          "name": "stdout",
          "output_type": "stream",
          "text": [
            "[38 80 89] [11 40 36] [11 68 57] [ 0 12 66] [56 15  4] "
          ]
        }
      ],
      "source": [
        "for i in range(5):\n",
        "    print(np.random.randint(0,100,3), '', end = \"\")"
      ]
    },
    {
      "cell_type": "code",
      "execution_count": null,
      "id": "8ffbb90c",
      "metadata": {
        "colab": {
          "base_uri": "https://localhost:8080/"
        },
        "id": "8ffbb90c",
        "outputId": "3e4f8cac-3fc4-42eb-c82c-74348c626fa9"
      },
      "outputs": [
        {
          "name": "stdout",
          "output_type": "stream",
          "text": [
            "[[82 49]\n",
            " [66 99]\n",
            " [99 26]]\n",
            "[[ 9 95]\n",
            " [67 13]\n",
            " [77 63]]\n",
            "[[80 53]\n",
            " [ 2 84]\n",
            " [44 55]]\n",
            "[[35 11]\n",
            " [ 2 99]\n",
            " [29 28]]\n",
            "[[44 42]\n",
            " [72 76]\n",
            " [99 62]]\n"
          ]
        }
      ],
      "source": [
        "for i in range(5):\n",
        "    print(np.random.randint(0,100,(3,2)))"
      ]
    },
    {
      "cell_type": "markdown",
      "id": "e40c2a66",
      "metadata": {
        "id": "e40c2a66"
      },
      "source": [
        "### 2. Random.rand()\n",
        "\n",
        "Returns a `random float` between `0` and `1`."
      ]
    },
    {
      "cell_type": "code",
      "execution_count": null,
      "id": "10012356",
      "metadata": {
        "colab": {
          "base_uri": "https://localhost:8080/"
        },
        "id": "10012356",
        "outputId": "6f3491b3-62b3-4f51-ccfa-defd36b3e09b"
      },
      "outputs": [
        {
          "name": "stdout",
          "output_type": "stream",
          "text": [
            "0.37446321504131774 0.9292726685750562 0.14789554640411706 0.7243056112483851 0.637977696361349 "
          ]
        }
      ],
      "source": [
        "for i in range(5):\n",
        "    print(np.random.rand(), '', end = \"\")"
      ]
    },
    {
      "cell_type": "markdown",
      "id": "c24ed28c",
      "metadata": {
        "id": "c24ed28c"
      },
      "source": [
        "### 3. Random.choice()\n",
        "\n",
        "Allows you `to generate` a `random` value `based on` an `array of values`."
      ]
    },
    {
      "cell_type": "code",
      "execution_count": null,
      "id": "8d41407b",
      "metadata": {
        "colab": {
          "base_uri": "https://localhost:8080/"
        },
        "id": "8d41407b",
        "outputId": "2b50dc0d-3e9a-4eaa-c1db-963ff2a3f48d"
      },
      "outputs": [
        {
          "name": "stdout",
          "output_type": "stream",
          "text": [
            "Dara "
          ]
        }
      ],
      "source": [
        "Nama = ['Rendika', 'Wisnu', 'Dara']\n",
        "\n",
        "for i in range(1):\n",
        "    print(np.random.choice(Nama), '', end = \"\")"
      ]
    },
    {
      "cell_type": "markdown",
      "id": "cb162a96",
      "metadata": {
        "id": "cb162a96"
      },
      "source": [
        "### 4. Random.choice() with probabilities in each value"
      ]
    },
    {
      "cell_type": "code",
      "execution_count": null,
      "id": "4338d759",
      "metadata": {
        "colab": {
          "base_uri": "https://localhost:8080/"
        },
        "id": "4338d759",
        "outputId": "78cdc6c7-1786-4999-e6dc-7aff47c50099"
      },
      "outputs": [
        {
          "name": "stdout",
          "output_type": "stream",
          "text": [
            "[7 5 5 7 7 7 5 7 7 5 5 7 5 7 7]\n"
          ]
        }
      ],
      "source": [
        "r = np.random.choice([3,5,7,9], p=[0.1, 0.3, 0.6, 0.0], size =(15))\n",
        "\n",
        "print(r)"
      ]
    },
    {
      "cell_type": "markdown",
      "id": "e5c33430",
      "metadata": {
        "id": "e5c33430"
      },
      "source": [
        "### 5. Random.randn()\n",
        "\n",
        "Generate random between negative and positive number."
      ]
    },
    {
      "cell_type": "code",
      "execution_count": null,
      "id": "932dd60d",
      "metadata": {
        "colab": {
          "base_uri": "https://localhost:8080/"
        },
        "id": "932dd60d",
        "outputId": "d961d71b-91b4-4099-f213-bfd61daa57b4"
      },
      "outputs": [
        {
          "data": {
            "text/plain": [
              "array([[-0.66494046, -0.36201385,  0.46183258, -0.70109889],\n",
              "       [ 0.73440323, -1.00064759,  0.59140112,  0.94237609]])"
            ]
          },
          "execution_count": 62,
          "metadata": {},
          "output_type": "execute_result"
        }
      ],
      "source": [
        "np.random.randn(2, 4)"
      ]
    },
    {
      "cell_type": "markdown",
      "id": "04bda741",
      "metadata": {
        "id": "04bda741"
      },
      "source": [
        "### 6. Random.shuffle()"
      ]
    },
    {
      "cell_type": "code",
      "execution_count": null,
      "id": "3e597df9",
      "metadata": {
        "colab": {
          "base_uri": "https://localhost:8080/"
        },
        "id": "3e597df9",
        "outputId": "08a01cbc-eea6-4a09-be62-8601999e1153"
      },
      "outputs": [
        {
          "name": "stdout",
          "output_type": "stream",
          "text": [
            "[3 2 4 5 1]\n"
          ]
        }
      ],
      "source": [
        "arr = np.array([1, 2, 3, 4, 5])\n",
        "np.random.shuffle(arr)\n",
        "print(arr)"
      ]
    },
    {
      "cell_type": "markdown",
      "id": "5cabcb2e",
      "metadata": {
        "id": "5cabcb2e"
      },
      "source": [
        "# `Matrix in Numpy`"
      ]
    },
    {
      "cell_type": "markdown",
      "id": "cd27c01c",
      "metadata": {
        "id": "cd27c01c"
      },
      "source": [
        "### 1. Matrix Identity"
      ]
    },
    {
      "cell_type": "code",
      "execution_count": null,
      "id": "fe37c32b",
      "metadata": {
        "colab": {
          "base_uri": "https://localhost:8080/"
        },
        "id": "fe37c32b",
        "outputId": "d93e149c-1fe5-431c-d5d5-8a9fdad142d5"
      },
      "outputs": [
        {
          "name": "stdout",
          "output_type": "stream",
          "text": [
            "[[1. 0. 0. 0. 0.]\n",
            " [0. 1. 0. 0. 0.]\n",
            " [0. 0. 1. 0. 0.]\n",
            " [0. 0. 0. 1. 0.]\n",
            " [0. 0. 0. 0. 1.]]\n"
          ]
        }
      ],
      "source": [
        "g = np.identity(5)\n",
        "\n",
        "print(g)"
      ]
    },
    {
      "cell_type": "markdown",
      "id": "d334d0d8",
      "metadata": {
        "id": "d334d0d8"
      },
      "source": [
        "### 2. Matrix Ones"
      ]
    },
    {
      "cell_type": "code",
      "execution_count": null,
      "id": "3592fb08",
      "metadata": {
        "colab": {
          "base_uri": "https://localhost:8080/"
        },
        "id": "3592fb08",
        "outputId": "b295275a-6d57-49a1-ebda-8e8a8013ad32"
      },
      "outputs": [
        {
          "name": "stdout",
          "output_type": "stream",
          "text": [
            "[[1. 1. 1.]\n",
            " [1. 1. 1.]\n",
            " [1. 1. 1.]\n",
            " [1. 1. 1.]]\n"
          ]
        }
      ],
      "source": [
        "k = np.ones((4,3), dtype=np.int64)\n",
        "k = np.ones((4,3), dtype=np.float64)\n",
        "\n",
        "print(k)"
      ]
    },
    {
      "cell_type": "markdown",
      "id": "7d89dbb6",
      "metadata": {
        "id": "7d89dbb6"
      },
      "source": [
        "### 3. Generating Arrays"
      ]
    },
    {
      "cell_type": "code",
      "execution_count": null,
      "id": "f2c91c6b",
      "metadata": {
        "colab": {
          "base_uri": "https://localhost:8080/"
        },
        "id": "f2c91c6b",
        "outputId": "eda50cda-747f-49fe-9eb9-3bdbecc16968"
      },
      "outputs": [
        {
          "name": "stdout",
          "output_type": "stream",
          "text": [
            "[ 0  1  2  3  4  5  6  7  8  9 10 11 12 13 14 15 16 17 18 19 20 21 22 23\n",
            " 24 25 26 27 28 29 30 31 32 33 34 35 36 37 38 39 40 41 42 43 44 45 46 47\n",
            " 48 49 50 51 52 53 54 55 56 57 58 59 60 61 62 63 64 65 66 67 68 69 70 71\n",
            " 72 73 74 75 76 77 78 79 80 81 82 83 84 85 86 87 88 89 90 91 92 93 94 95\n",
            " 96 97 98 99]\n"
          ]
        }
      ],
      "source": [
        "n = np.arange(0, 100)\n",
        "print(n)"
      ]
    },
    {
      "cell_type": "code",
      "execution_count": null,
      "id": "0e616eb2",
      "metadata": {
        "colab": {
          "base_uri": "https://localhost:8080/"
        },
        "id": "0e616eb2",
        "outputId": "813a6d72-ca70-4af0-e5d2-b55771b2f488"
      },
      "outputs": [
        {
          "name": "stdout",
          "output_type": "stream",
          "text": [
            "[ 2.          2.88888889  3.77777778  4.66666667  5.55555556  6.44444444\n",
            "  7.33333333  8.22222222  9.11111111 10.        ]\n"
          ]
        }
      ],
      "source": [
        "n = np.linspace(2, 10, 10, endpoint=True)\n",
        "print(n)"
      ]
    },
    {
      "cell_type": "markdown",
      "id": "eaf9d35e",
      "metadata": {
        "id": "eaf9d35e"
      },
      "source": [
        "### 4. Matrix Operations"
      ]
    },
    {
      "cell_type": "code",
      "execution_count": null,
      "id": "0990b57a",
      "metadata": {
        "colab": {
          "base_uri": "https://localhost:8080/"
        },
        "id": "0990b57a",
        "outputId": "6675b247-0d58-418f-9428-6ef13d4c0714"
      },
      "outputs": [
        {
          "name": "stdout",
          "output_type": "stream",
          "text": [
            "[[ 2  4]\n",
            " [ 5 -6]] +\n",
            " [[ 9 -3]\n",
            " [ 3  6]] \n",
            "\n",
            "[[11  1]\n",
            " [ 8  0]]\n"
          ]
        }
      ],
      "source": [
        "# Addition of Two Matrices\n",
        "\n",
        "A = np.array([[2, 4], [5, -6]])\n",
        "B = np.array([[9, -3], [3, 6]])\n",
        "C = A + B      # element wise addition\n",
        "print(A,'+\\n', B,'\\n')\n",
        "print(C)"
      ]
    },
    {
      "cell_type": "code",
      "execution_count": null,
      "id": "1b1de803",
      "metadata": {
        "colab": {
          "base_uri": "https://localhost:8080/"
        },
        "id": "1b1de803",
        "outputId": "e4b5572e-09ac-4c82-9c21-266ab2731d40"
      },
      "outputs": [
        {
          "name": "stdout",
          "output_type": "stream",
          "text": [
            "[[ 2  4]\n",
            " [ 5 -6]] -\n",
            " [[ 9 -3]\n",
            " [ 3  6]] \n",
            "\n",
            "[[ -7   7]\n",
            " [  2 -12]]\n"
          ]
        }
      ],
      "source": [
        "# subtraction of Two Matrices\n",
        "\n",
        "A = np.array([[2, 4], [5, -6]])\n",
        "B = np.array([[9, -3], [3, 6]])\n",
        "C = A - B      # element wise addition\n",
        "print(A,'-\\n', B,'\\n')\n",
        "print(C)"
      ]
    },
    {
      "cell_type": "code",
      "execution_count": null,
      "id": "939c10cd",
      "metadata": {
        "colab": {
          "base_uri": "https://localhost:8080/"
        },
        "id": "939c10cd",
        "outputId": "486016cd-45c0-466b-fdea-7a9fc3ef9170"
      },
      "outputs": [
        {
          "name": "stdout",
          "output_type": "stream",
          "text": [
            "[[ 36 -12]\n",
            " [ -1   2]]\n"
          ]
        }
      ],
      "source": [
        "# Multiplication of Two Matrices\n",
        "\n",
        "A = np.array([[3, 6, 7], [5, -3, 0]])\n",
        "B = np.array([[1, 1], [2, 1], [3, -3]])\n",
        "C = A.dot(B)\n",
        "print(C)"
      ]
    },
    {
      "cell_type": "markdown",
      "id": "7a8a885e",
      "metadata": {
        "id": "7a8a885e"
      },
      "source": [
        "### 5. Transpose of a Matrix"
      ]
    },
    {
      "cell_type": "code",
      "execution_count": null,
      "id": "1b6647df",
      "metadata": {
        "colab": {
          "base_uri": "https://localhost:8080/"
        },
        "id": "1b6647df",
        "outputId": "b589a964-ad9b-4d49-edbd-10abd176e7e7"
      },
      "outputs": [
        {
          "name": "stdout",
          "output_type": "stream",
          "text": [
            "[[ 1  1]\n",
            " [ 2  1]\n",
            " [ 3 -3]] \n",
            "\n"
          ]
        }
      ],
      "source": [
        "A = np.array([[1, 1], [2, 1], [3, -3]])\n",
        "print(A,'\\n')"
      ]
    },
    {
      "cell_type": "code",
      "execution_count": null,
      "id": "ad376d14",
      "metadata": {
        "colab": {
          "base_uri": "https://localhost:8080/"
        },
        "id": "ad376d14",
        "outputId": "4fa6831e-d7d6-4672-eaad-be74cfc2491a"
      },
      "outputs": [
        {
          "name": "stdout",
          "output_type": "stream",
          "text": [
            "[[ 1  2  3]\n",
            " [ 1  1 -3]]\n"
          ]
        }
      ],
      "source": [
        "print(A.transpose())"
      ]
    }
  ],
  "metadata": {
    "colab": {
      "provenance": [],
      "toc_visible": true
    },
    "kernelspec": {
      "display_name": "pcd",
      "language": "python",
      "name": "python3"
    },
    "language_info": {
      "codemirror_mode": {
        "name": "ipython",
        "version": 3
      },
      "file_extension": ".py",
      "mimetype": "text/x-python",
      "name": "python",
      "nbconvert_exporter": "python",
      "pygments_lexer": "ipython3",
      "version": "3.9.13"
    },
    "toc": {
      "base_numbering": 1,
      "nav_menu": {},
      "number_sections": false,
      "sideBar": true,
      "skip_h1_title": false,
      "title_cell": "Table of Contents",
      "title_sidebar": "Contents",
      "toc_cell": false,
      "toc_position": {
        "height": "calc(100% - 180px)",
        "left": "10px",
        "top": "150px",
        "width": "227.858px"
      },
      "toc_section_display": true,
      "toc_window_display": true
    },
    "vscode": {
      "interpreter": {
        "hash": "847dc046b2a16d4f811b37f3484457588dd6b72be711d7731cdeef55429b5ab2"
      }
    }
  },
  "nbformat": 4,
  "nbformat_minor": 5
}
