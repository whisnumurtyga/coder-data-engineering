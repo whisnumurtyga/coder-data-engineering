{
 "cells": [
  {
   "attachments": {},
   "cell_type": "markdown",
   "metadata": {},
   "source": [
    "# README\n",
    "\n",
    "1. Install Selenium\n",
    "2. Install Web Driver yang digunakan (misal chrome install web driver chrome, misal edge instal web driver edge) - versinya sesuaikan dengan versi web appnya\n",
    "3. Akses Maps Menggunakan Place Id (Search Place Id Finder buat cari id dari lokasi)\n",
    "4. Inspect Element\n"
   ]
  },
  {
   "attachments": {},
   "cell_type": "markdown",
   "metadata": {},
   "source": [
    "### Import Library"
   ]
  },
  {
   "cell_type": "code",
   "execution_count": 53,
   "metadata": {},
   "outputs": [],
   "source": [
    "from selenium import webdriver\n",
    "from selenium.webdriver.common.by import By\n",
    "from selenium.webdriver.support.ui import WebDriverWait\n",
    "from selenium.webdriver.support import expected_conditions as EC\n",
    "import time\n",
    "import pandas as pd\n",
    "from itertools import zip_longest\n",
    "import seaborn as sns\n",
    "import matplotlib.pyplot as plt\n",
    "from textblob import TextBlob\n",
    "from googletrans import Translator\n",
    "\n"
   ]
  },
  {
   "cell_type": "code",
   "execution_count": 37,
   "metadata": {},
   "outputs": [],
   "source": [
    "translator = Translator()"
   ]
  },
  {
   "attachments": {},
   "cell_type": "markdown",
   "metadata": {},
   "source": [
    "### Konfigurasi Web Driver"
   ]
  },
  {
   "cell_type": "code",
   "execution_count": 54,
   "metadata": {},
   "outputs": [],
   "source": [
    "# Konfigurasi WebDriver\n",
    "options = webdriver.EdgeOptions()\n",
    "options.use_chromium = True\n",
    "# options.add_argument(\"headless\")  # Untuk menjalankan browser dalam mode headless\n",
    "driver = webdriver.Edge(options=options)\n",
    "wait = WebDriverWait(driver, 5)\n",
    "\n"
   ]
  },
  {
   "attachments": {},
   "cell_type": "markdown",
   "metadata": {},
   "source": [
    "### Tentukan target lokasi"
   ]
  },
  {
   "cell_type": "code",
   "execution_count": 56,
   "metadata": {},
   "outputs": [],
   "source": [
    "# Buka halaman Google Maps berdasarkan place id\n",
    "ahass_panglima_jaya = \"ChIJy8o9kNH71y0RMPCH2a8jyIE\"\n",
    "ahass_mutiara_motor = \"ChIJM7Q_Ns371y0RgsVCneDEVvw\"\n",
    "ahass_dinoyo = \"ChIJC1wN5bD71y0RwmNs98Ch4OE\"\n",
    "itts = \"ChIJHVqSy9H71y0RnwWbLgvLvh0\"\n",
    "\n",
    "# driver.get(f'https://www.google.com/maps/place/?q=place_id:{ahass_panglima_jaya}')\n",
    "# driver.get(f'https://www.google.com/maps/place/?q=place_id:{ahass_mutiara_motor}')\n",
    "driver.get(f'https://www.google.com/maps/place/?q=place_id:{ahass_dinoyo}')\n",
    "# driver.get(f'https://www.google.com/maps/place/?q=place_id:{itts}')"
   ]
  },
  {
   "attachments": {},
   "cell_type": "markdown",
   "metadata": {},
   "source": [
    "###  Karena letak komen dan review ada di sidebar, pastikan elemen tersebut bisa kita akses"
   ]
  },
  {
   "cell_type": "code",
   "execution_count": 57,
   "metadata": {},
   "outputs": [],
   "source": [
    "sidebar = wait.until(EC.presence_of_element_located((By.ID, 'QA0Szd')))"
   ]
  },
  {
   "attachments": {},
   "cell_type": "markdown",
   "metadata": {},
   "source": [
    "### Define Sidebar Konten untuk di scrool (karena sidebar ada 2 colom, colom button, dan kolom konten)"
   ]
  },
  {
   "cell_type": "code",
   "execution_count": 58,
   "metadata": {},
   "outputs": [],
   "source": [
    "# Define the element to scroll\n",
    "element_to_scroll = sidebar.find_element(By.CSS_SELECTOR, '#QA0Szd > div > div > div.w6VYqd > div.bJzME.tTVLSc > div > div.e07Vkf.kA9KIf > div > div')"
   ]
  },
  {
   "attachments": {},
   "cell_type": "markdown",
   "metadata": {},
   "source": [
    "### Define Fungsi untuk scrool"
   ]
  },
  {
   "cell_type": "code",
   "execution_count": 59,
   "metadata": {},
   "outputs": [],
   "source": [
    "# Function to scroll to the element\n",
    "def scroll_to_element(element):\n",
    "    driver.execute_script(\"arguments[0].scrollIntoView(false);\", element)\n",
    "    \n",
    "    time.sleep(5)  # Wait for 5 seconds after scrolling"
   ]
  },
  {
   "attachments": {},
   "cell_type": "markdown",
   "metadata": {},
   "source": [
    "### Scrool sampe button more review ditemukan"
   ]
  },
  {
   "cell_type": "code",
   "execution_count": 64,
   "metadata": {},
   "outputs": [],
   "source": [
    "# Scroll until the \"More reviews\" button is visible\n",
    "button_more_reviews = None\n",
    "while not button_more_reviews:\n",
    "    try:\n",
    "        button_more_reviews = element_to_scroll.find_element(By.CSS_SELECTOR, 'div > button[aria-label*=\"ulasan lainnya\" i], div > button[aria-label*=\"reviews\" i]')\n",
    "    except:\n",
    "        scroll_to_element(element_to_scroll)"
   ]
  },
  {
   "attachments": {},
   "cell_type": "markdown",
   "metadata": {},
   "source": [
    "### Memastikan elemen button tampil dan siap di klik"
   ]
  },
  {
   "cell_type": "code",
   "execution_count": 65,
   "metadata": {},
   "outputs": [],
   "source": [
    "# Scroll a bit more to ensure the button is fully visible\n",
    "scroll_to_element(button_more_reviews)\n",
    "time.sleep(5)\n",
    "\n",
    "# Wait until the button is clickable\n",
    "wait = WebDriverWait(driver, 5)\n",
    "button_more_reviews = wait.until(EC.element_to_be_clickable((By.CSS_SELECTOR, 'div > button[aria-label*=\"ulasan lainnya\" i], div > button[aria-label*=\"reviews\" i]')))\n"
   ]
  },
  {
   "attachments": {},
   "cell_type": "markdown",
   "metadata": {},
   "source": [
    "### Klik Button "
   ]
  },
  {
   "cell_type": "code",
   "execution_count": 66,
   "metadata": {},
   "outputs": [],
   "source": [
    "# Click the \"More reviews\" button\n",
    "button_more_reviews.click()"
   ]
  },
  {
   "attachments": {},
   "cell_type": "markdown",
   "metadata": {},
   "source": [
    "### Define Sidebar Baru (setelah kita klik tombol reviews)"
   ]
  },
  {
   "cell_type": "code",
   "execution_count": 67,
   "metadata": {},
   "outputs": [],
   "source": [
    "element_to_scroll = sidebar.find_element(By.CSS_SELECTOR, '#QA0Szd > div > div > div.w6VYqd > div.bJzME.tTVLSc > div > div.e07Vkf.kA9KIf > div > div > div.m6QErb.DxyBCb.kA9KIf.dS8AEf')"
   ]
  },
  {
   "attachments": {},
   "cell_type": "markdown",
   "metadata": {},
   "source": [
    "### Buat Fungsi baru untuk auto scrolling sampai bawah"
   ]
  },
  {
   "cell_type": "code",
   "execution_count": 68,
   "metadata": {},
   "outputs": [],
   "source": [
    "# Fungsi untuk melakukan scroll ke bawah\n",
    "def scroll_to_bottom(element):\n",
    "    driver.execute_script(\"arguments[0].scrollTop = arguments[0].scrollHeight\", element)\n",
    "    time.sleep(10)  # Jeda 10 detik setelah melakukan scroll\n"
   ]
  },
  {
   "attachments": {},
   "cell_type": "markdown",
   "metadata": {},
   "source": [
    "### Jalankan auto scrooling sampai limit scrool habis/ pentokin"
   ]
  },
  {
   "cell_type": "code",
   "execution_count": 69,
   "metadata": {},
   "outputs": [],
   "source": [
    "# Lakukan scroll ke bawah sampai mentok\n",
    "limit_scrool = 2\n",
    "while True:\n",
    "    previous_height = driver.execute_script(\"return arguments[0].scrollHeight\", element_to_scroll)\n",
    "    scroll_to_bottom(element_to_scroll)\n",
    "    current_height = driver.execute_script(\"return arguments[0].scrollHeight\", element_to_scroll)\n",
    "    if current_height == previous_height or limit_scrool == 0:\n",
    "        break\n",
    "    limit_scrool -= 1"
   ]
  },
  {
   "attachments": {},
   "cell_type": "markdown",
   "metadata": {},
   "source": [
    "### Cari elemen html yang mau kita cari dari komen section (nama-status-year-star-comments)"
   ]
  },
  {
   "cell_type": "code",
   "execution_count": 70,
   "metadata": {},
   "outputs": [],
   "source": [
    "names = driver.find_elements(By.CSS_SELECTOR, 'div.d4r55')\n",
    "status = driver.find_elements(By.CSS_SELECTOR, 'div.RfnDt')\n",
    "year = driver.find_elements(By.CSS_SELECTOR, 'div.DU9Pgb span.rsqaWe')\n",
    "\n",
    "star = driver.find_elements(By.CSS_SELECTOR, 'span.kvMYJc[aria-label*=\"stars\"]')\n",
    "if (len(star) < 1) : #buat validasi bahasa\n",
    "    star = driver.find_elements(By.CSS_SELECTOR, 'span.kvMYJc[aria-label*=\"bintang\"]')\n",
    "\n",
    "comments = driver.find_elements(By.CSS_SELECTOR, 'div.MyEned')\n",
    "\n",
    "# for st in status:\n",
    "#     print(len(st.text.split('·')))"
   ]
  },
  {
   "cell_type": "code",
   "execution_count": 74,
   "metadata": {},
   "outputs": [
    {
     "data": {
      "text/plain": [
       "'Agmarina Vica Mayelsa'"
      ]
     },
     "execution_count": 74,
     "metadata": {},
     "output_type": "execute_result"
    }
   ],
   "source": [
    "names[0].text"
   ]
  },
  {
   "attachments": {},
   "cell_type": "markdown",
   "metadata": {},
   "source": [
    "### Check sebelum insert"
   ]
  },
  {
   "cell_type": "code",
   "execution_count": 71,
   "metadata": {},
   "outputs": [
    {
     "name": "stdout",
     "output_type": "stream",
     "text": [
      "len names 19\n",
      "len status 19\n",
      "len year 19\n",
      "len star 19\n",
      "len comments 14\n"
     ]
    }
   ],
   "source": [
    "name_list = []\n",
    "reviewer_status_list = []\n",
    "total_reviews_list = []\n",
    "year_list = []\n",
    "star_list = []\n",
    "comment_list = []\n",
    "\n",
    "print(\"len names\", len(names))\n",
    "print(\"len status\", len(status))\n",
    "print(\"len year\", len(year))\n",
    "print(\"len star\", len(star))\n",
    "print(\"len comments\", len(comments))"
   ]
  },
  {
   "cell_type": "code",
   "execution_count": 75,
   "metadata": {},
   "outputs": [
    {
     "name": "stdout",
     "output_type": "stream",
     "text": [
      "\n",
      "Name: Agmarina Vica Mayelsa\n",
      "Reviewer Status : Local Guide \n",
      "Total Reviews :  56 ulasan\n",
      "Periode: setahun lalu\n",
      "Star: 5\n",
      "Comment: Kesini hari minggu ternyata buka karena sempet muter2 tapi pada tutup huhu. Mbaknya sabar nanyain kita perlu apa aja perbaikannya. Terus disediakan air untuk minum bahkan bisa buat kopi sendiri. Mas mas mekaniknya juga sabar mendengarkan … Lainnya\n",
      "---\n",
      "\n",
      "Name: Seka Riye\n",
      "Status: 1 ulasan\n",
      "Reviewer Status: Non Local Guide\n",
      "Periode: 2 minggu lalu\n",
      "Star: 1\n",
      "Comment: Awal cerita saya ke ahas, mengeluhkan vario 150 roda blakang goyang saat berkendara , karyawannya mau ngecek, kata karyawannya penyebabnya roda depan udah gundul dan harus di ganti, dan saya iyakan aja, dalam hati gimana ceritanya yang … Lainnya\n",
      "---\n",
      "\n",
      "Name: dini hidayah\n",
      "Reviewer Status : Local Guide \n",
      "Total Reviews :  78 ulasan\n",
      "Periode: 2 minggu lalu\n",
      "Star: 5\n",
      "Comment: Pelayanan cepat, antri pun ngga lama. Ganti oli garda dan sampingnya pun cakcek watwet. Lokasi pas depan pertamina jadi enak abis service bisa lansung isi bensin\n",
      "---\n",
      "\n",
      "Name: typh\n",
      "Reviewer Status : Local Guide \n",
      "Total Reviews :  26 ulasan\n",
      "Periode: sebulan lalu\n",
      "Star: 1\n",
      "Comment: Rem belakang seret, piston d kasih stempet doang... besoknya kumat lagi... mau balik lagi k bengkel eh ternyata hari jumat tutup...\n",
      "Pindah k ahas mpm ngagel... ganti master rem ternyata beres 🫣👌👍🏼 …\n",
      "---\n",
      "\n",
      "Name: Alfiah\n",
      "Status: 2 ulasan\n",
      "Reviewer Status: Non Local Guide\n",
      "Periode: 5 bulan lalu\n",
      "Star: 5\n",
      "Comment: Staff dan mechanic sangat ramah.. Disediain air aqua juga bisa buat kopi.. Transparan dalam memberitahukan masalah motor dan kasih advice terbaik buat customer.. Pelayanan di AHASS DINOYO sangat memuaskan.. ❤👍 …\n",
      "---\n",
      "\n",
      "Name: Diki Wahyu A\n",
      "Status: 6 ulasan\n",
      "Reviewer Status: Non Local Guide\n",
      "Periode: 2 bulan lalu\n",
      "Star: 3\n",
      "Comment: Pelayanan & mekaniknya cukup baik . Tapi sayang onderdilnya tidak lengkap\n",
      "---\n",
      "\n",
      "Name: king rester\n",
      "Status: 2 ulasan\n",
      "Reviewer Status: Non Local Guide\n",
      "Periode: 4 bulan lalu\n",
      "Star: 5\n",
      "Comment: Mekanik nya bagus\n",
      "---\n",
      "\n",
      "Name: Candra Tungtung\n",
      "Status: 5 ulasan\n",
      "Reviewer Status: Non Local Guide\n",
      "Periode: 6 bulan lalu\n",
      "Star: 5\n",
      "Comment: Mekaniknya baik ramah jujur hahah.. Ga kawatir klo servise di sini.. Rusaknya ga mengada ada\n",
      "---\n",
      "\n",
      "Name: ANDI\n",
      "Reviewer Status : Local Guide \n",
      "Total Reviews :  44 ulasan\n",
      "Periode: setahun lalu\n",
      "Star: 5\n",
      "Comment: Pengalaman servis disini staf dan mekaniknya ramah, melayani dengan baik dan cekatan, diberikan informasi jika ada part yg harus diganti dan jika masih baik akan diinformasikan tidak ada yg perlu diganti, sangat transparan dan jujur, … Lainnya\n",
      "---\n",
      "\n",
      "Name: M. Ismail Ahmad\n",
      "Status: 12 ulasan\n",
      "Reviewer Status: Non Local Guide\n",
      "Periode: setahun lalu\n",
      "Star: 5\n",
      "Comment: Sangat rekomendasi sekali servis disini karena spare part murah, mekanik sangat berpengalaman. Puas sekali hari ini servis disini. Semoga tetap konsisten dan lebih baik lagi\n",
      "---\n",
      "\n",
      "Name: Putra adhitama\n",
      "Status: 2 ulasan\n",
      "Reviewer Status: Non Local Guide\n",
      "Periode: 3 bulan lalu\n",
      "Star: 2\n",
      "Comment: Ganti komster brp\n",
      "---\n",
      "\n",
      "Name: Hairul Hakiki\n",
      "Status: 2 ulasan\n",
      "Reviewer Status: Non Local Guide\n",
      "Periode: 5 bulan lalu\n",
      "Star: 5\n",
      "Comment: Servisnya bagus\n",
      "---\n",
      "\n",
      "Name: Eka Vivi\n",
      "Reviewer Status : Local Guide \n",
      "Total Reviews :  20 ulasan\n",
      "Periode: 2 tahun lalu\n",
      "Star: 5\n",
      "Comment: Excellent Service!!\n",
      "Harga transparan.\n",
      "Mekanik jujur. … Lainnya\n",
      "---\n",
      "\n",
      "Name: Natalia Candra\n",
      "Reviewer Status : Local Guide \n",
      "Total Reviews :  18 ulasan\n",
      "Periode: 11 bulan lalu\n",
      "Star: 5\n",
      "Comment: Friendly frontline & mechanic. They wash the motorcycle after finishing its service. Lainnya\n",
      "---\n",
      "\n",
      "Name: isaac permana\n",
      "Reviewer Status : Local Guide \n",
      "Total Reviews :  6 ulasan\n",
      "Periode: 7 bulan lalu\n",
      "Star: 5\n",
      "Comment: Comment not found\n",
      "---\n",
      "\n",
      "Name: Ahmad Rizal Subaktiar\n",
      "Status: 3 ulasan\n",
      "Reviewer Status: Non Local Guide\n",
      "Periode: 7 bulan lalu\n",
      "Star: 1\n",
      "Comment: Comment not found\n",
      "---\n",
      "\n",
      "Name: Naga Botak\n",
      "Status: 24 ulasan\n",
      "Reviewer Status: Non Local Guide\n",
      "Periode: 11 bulan lalu\n",
      "Star: 4\n",
      "Comment: Comment not found\n",
      "---\n",
      "\n",
      "Name: selamat riadi\n",
      "Status: 1 ulasan\n",
      "Reviewer Status: Non Local Guide\n",
      "Periode: 2 tahun lalu\n",
      "Star: 5\n",
      "Comment: Comment not found\n",
      "---\n",
      "\n",
      "Name: Rifqi Farros\n",
      "Reviewer Status : Local Guide \n",
      "Total Reviews :  12 ulasan\n",
      "Periode: 9 bulan lalu\n",
      "Star: 5\n",
      "Comment: Comment not found\n",
      "---\n"
     ]
    }
   ],
   "source": [
    "\n",
    "for name, stat, year, st, comment in zip_longest(names, status, year, star, comments, fillvalue=\"\"):\n",
    "    print(\"\\nName:\", name.text)\n",
    "    name_list.append(name.text)\n",
    "    # Karena pada status bisa mereturn status reviewer dan total jumlah review, jadi kita cleaning sekalian\n",
    "    if len(stat.text.split('·')) == 2:\n",
    "        print(\"Reviewer Status :\", stat.text.split('·')[0])\n",
    "        print(\"Total Reviews :\", stat.text.split('·')[1])\n",
    "        reviewer_status_list.append(stat.text.split('·')[0])\n",
    "        total_reviews_list.append(stat.text.split('·')[1])\n",
    "    else :\n",
    "        # karena gak semua status memiliki status reviewer dan total jumlah review\n",
    "        print(\"Status:\", stat.text.split('·')[0])\n",
    "        print(\"Reviewer Status:\", \"Non Local Guide\")\n",
    "        reviewer_status_list.append(\"Non Local Guide\")\n",
    "        total_reviews_list.append(stat.text.split('·')[0])\n",
    "    print(\"Periode:\", year.text)\n",
    "    year_list.append(year.text)\n",
    "    try:\n",
    "        # Kita split karena outputnya adalah ex \"4 Bintang\"\n",
    "        print(\"Star:\", st.get_attribute('aria-label').split()[0])\n",
    "        star_list.append(st.get_attribute('aria-label').split()[0])\n",
    "    except:\n",
    "        # Kadang setelah scrool tidak tergenerate semua htmlnya (antisipasi)\n",
    "        print(\"Star: NaN\")\n",
    "        star_list.append(float('nan'))\n",
    "    try :\n",
    "        print(\"Comment:\", comment.text) \n",
    "        comment_list.append(comment.text)\n",
    "    except : \n",
    "        print(\"Comment: Comment not found\") \n",
    "        comment_list.append(\"comment not found\")\n",
    "    print(\"---\")"
   ]
  },
  {
   "cell_type": "code",
   "execution_count": null,
   "metadata": {},
   "outputs": [],
   "source": []
  },
  {
   "attachments": {},
   "cell_type": "markdown",
   "metadata": {},
   "source": [
    "### Insert ke data frame biar rapih"
   ]
  },
  {
   "cell_type": "code",
   "execution_count": 76,
   "metadata": {},
   "outputs": [],
   "source": [
    "df = pd.DataFrame({\n",
    "    'Name': name_list,\n",
    "    'Reviewer Status': reviewer_status_list,\n",
    "    'Total Reviews': total_reviews_list,\n",
    "    'Year': year_list,\n",
    "    'Star': star_list,\n",
    "    'Comment': comment_list\n",
    "})\n"
   ]
  },
  {
   "cell_type": "code",
   "execution_count": 77,
   "metadata": {},
   "outputs": [
    {
     "data": {
      "text/html": [
       "<div>\n",
       "<style scoped>\n",
       "    .dataframe tbody tr th:only-of-type {\n",
       "        vertical-align: middle;\n",
       "    }\n",
       "\n",
       "    .dataframe tbody tr th {\n",
       "        vertical-align: top;\n",
       "    }\n",
       "\n",
       "    .dataframe thead th {\n",
       "        text-align: right;\n",
       "    }\n",
       "</style>\n",
       "<table border=\"1\" class=\"dataframe\">\n",
       "  <thead>\n",
       "    <tr style=\"text-align: right;\">\n",
       "      <th></th>\n",
       "      <th>Name</th>\n",
       "      <th>Reviewer Status</th>\n",
       "      <th>Total Reviews</th>\n",
       "      <th>Year</th>\n",
       "      <th>Star</th>\n",
       "      <th>Comment</th>\n",
       "    </tr>\n",
       "  </thead>\n",
       "  <tbody>\n",
       "    <tr>\n",
       "      <th>0</th>\n",
       "      <td>Agmarina Vica Mayelsa</td>\n",
       "      <td>Local Guide</td>\n",
       "      <td>56 ulasan</td>\n",
       "      <td>setahun lalu</td>\n",
       "      <td>5</td>\n",
       "      <td>Kesini hari minggu ternyata buka karena sempet...</td>\n",
       "    </tr>\n",
       "    <tr>\n",
       "      <th>1</th>\n",
       "      <td>Seka Riye</td>\n",
       "      <td>Non Local Guide</td>\n",
       "      <td>1 ulasan</td>\n",
       "      <td>2 minggu lalu</td>\n",
       "      <td>1</td>\n",
       "      <td>Awal cerita saya ke ahas, mengeluhkan vario 15...</td>\n",
       "    </tr>\n",
       "    <tr>\n",
       "      <th>2</th>\n",
       "      <td>dini hidayah</td>\n",
       "      <td>Local Guide</td>\n",
       "      <td>78 ulasan</td>\n",
       "      <td>2 minggu lalu</td>\n",
       "      <td>5</td>\n",
       "      <td>Pelayanan cepat, antri pun ngga lama. Ganti ol...</td>\n",
       "    </tr>\n",
       "    <tr>\n",
       "      <th>3</th>\n",
       "      <td>typh</td>\n",
       "      <td>Local Guide</td>\n",
       "      <td>26 ulasan</td>\n",
       "      <td>sebulan lalu</td>\n",
       "      <td>1</td>\n",
       "      <td>Rem belakang seret, piston d kasih stempet doa...</td>\n",
       "    </tr>\n",
       "    <tr>\n",
       "      <th>4</th>\n",
       "      <td>Alfiah</td>\n",
       "      <td>Non Local Guide</td>\n",
       "      <td>2 ulasan</td>\n",
       "      <td>5 bulan lalu</td>\n",
       "      <td>5</td>\n",
       "      <td>Staff dan mechanic sangat ramah.. Disediain ai...</td>\n",
       "    </tr>\n",
       "  </tbody>\n",
       "</table>\n",
       "</div>"
      ],
      "text/plain": [
       "                    Name  Reviewer Status Total Reviews           Year Star  \\\n",
       "0  Agmarina Vica Mayelsa     Local Guide      56 ulasan   setahun lalu    5   \n",
       "1              Seka Riye  Non Local Guide      1 ulasan  2 minggu lalu    1   \n",
       "2           dini hidayah     Local Guide      78 ulasan  2 minggu lalu    5   \n",
       "3                   typh     Local Guide      26 ulasan   sebulan lalu    1   \n",
       "4                 Alfiah  Non Local Guide      2 ulasan   5 bulan lalu    5   \n",
       "\n",
       "                                             Comment  \n",
       "0  Kesini hari minggu ternyata buka karena sempet...  \n",
       "1  Awal cerita saya ke ahas, mengeluhkan vario 15...  \n",
       "2  Pelayanan cepat, antri pun ngga lama. Ganti ol...  \n",
       "3  Rem belakang seret, piston d kasih stempet doa...  \n",
       "4  Staff dan mechanic sangat ramah.. Disediain ai...  "
      ]
     },
     "execution_count": 77,
     "metadata": {},
     "output_type": "execute_result"
    }
   ],
   "source": [
    "df.head()"
   ]
  },
  {
   "cell_type": "code",
   "execution_count": 80,
   "metadata": {},
   "outputs": [
    {
     "data": {
      "text/html": [
       "<div>\n",
       "<style scoped>\n",
       "    .dataframe tbody tr th:only-of-type {\n",
       "        vertical-align: middle;\n",
       "    }\n",
       "\n",
       "    .dataframe tbody tr th {\n",
       "        vertical-align: top;\n",
       "    }\n",
       "\n",
       "    .dataframe thead th {\n",
       "        text-align: right;\n",
       "    }\n",
       "</style>\n",
       "<table border=\"1\" class=\"dataframe\">\n",
       "  <thead>\n",
       "    <tr style=\"text-align: right;\">\n",
       "      <th></th>\n",
       "      <th>Name</th>\n",
       "      <th>Reviewer Status</th>\n",
       "      <th>Total Reviews</th>\n",
       "      <th>Year</th>\n",
       "      <th>Star</th>\n",
       "      <th>Comment</th>\n",
       "    </tr>\n",
       "  </thead>\n",
       "  <tbody>\n",
       "    <tr>\n",
       "      <th>0</th>\n",
       "      <td>Agmarina Vica Mayelsa</td>\n",
       "      <td>Local Guide</td>\n",
       "      <td>56</td>\n",
       "      <td>setahun lalu</td>\n",
       "      <td>5</td>\n",
       "      <td>Kesini hari minggu ternyata buka karena sempet...</td>\n",
       "    </tr>\n",
       "    <tr>\n",
       "      <th>1</th>\n",
       "      <td>Seka Riye</td>\n",
       "      <td>Non Local Guide</td>\n",
       "      <td>1</td>\n",
       "      <td>2 minggu lalu</td>\n",
       "      <td>1</td>\n",
       "      <td>Awal cerita saya ke ahas, mengeluhkan vario 15...</td>\n",
       "    </tr>\n",
       "    <tr>\n",
       "      <th>2</th>\n",
       "      <td>dini hidayah</td>\n",
       "      <td>Local Guide</td>\n",
       "      <td>78</td>\n",
       "      <td>2 minggu lalu</td>\n",
       "      <td>5</td>\n",
       "      <td>Pelayanan cepat, antri pun ngga lama. Ganti ol...</td>\n",
       "    </tr>\n",
       "    <tr>\n",
       "      <th>3</th>\n",
       "      <td>typh</td>\n",
       "      <td>Local Guide</td>\n",
       "      <td>26</td>\n",
       "      <td>sebulan lalu</td>\n",
       "      <td>1</td>\n",
       "      <td>Rem belakang seret, piston d kasih stempet doa...</td>\n",
       "    </tr>\n",
       "    <tr>\n",
       "      <th>4</th>\n",
       "      <td>Alfiah</td>\n",
       "      <td>Non Local Guide</td>\n",
       "      <td>2</td>\n",
       "      <td>5 bulan lalu</td>\n",
       "      <td>5</td>\n",
       "      <td>Staff dan mechanic sangat ramah.. Disediain ai...</td>\n",
       "    </tr>\n",
       "  </tbody>\n",
       "</table>\n",
       "</div>"
      ],
      "text/plain": [
       "                    Name  Reviewer Status  Total Reviews           Year Star  \\\n",
       "0  Agmarina Vica Mayelsa     Local Guide              56   setahun lalu    5   \n",
       "1              Seka Riye  Non Local Guide              1  2 minggu lalu    1   \n",
       "2           dini hidayah     Local Guide              78  2 minggu lalu    5   \n",
       "3                   typh     Local Guide              26   sebulan lalu    1   \n",
       "4                 Alfiah  Non Local Guide              2   5 bulan lalu    5   \n",
       "\n",
       "                                             Comment  \n",
       "0  Kesini hari minggu ternyata buka karena sempet...  \n",
       "1  Awal cerita saya ke ahas, mengeluhkan vario 15...  \n",
       "2  Pelayanan cepat, antri pun ngga lama. Ganti ol...  \n",
       "3  Rem belakang seret, piston d kasih stempet doa...  \n",
       "4  Staff dan mechanic sangat ramah.. Disediain ai...  "
      ]
     },
     "execution_count": 80,
     "metadata": {},
     "output_type": "execute_result"
    }
   ],
   "source": [
    "def hapus_ulasan(nilai):\n",
    "    return nilai.split()[0]\n",
    "\n",
    "# df['Total Reviews'] = df['Total Reviews'].apply(hapus_ulasan)\n",
    "# df['Total Reviews'] = df['Total Reviews'].astype(int)\n",
    "\n",
    "df.head()"
   ]
  },
  {
   "cell_type": "code",
   "execution_count": 21,
   "metadata": {},
   "outputs": [
    {
     "data": {
      "text/plain": [
       "count     19\n",
       "unique     5\n",
       "top        5\n",
       "freq      13\n",
       "Name: Star, dtype: object"
      ]
     },
     "execution_count": 21,
     "metadata": {},
     "output_type": "execute_result"
    }
   ],
   "source": [
    "df['Star'].describe()"
   ]
  },
  {
   "cell_type": "code",
   "execution_count": 81,
   "metadata": {},
   "outputs": [
    {
     "data": {
      "text/plain": [
       "Non Local Guide    11\n",
       "Local Guide         8\n",
       "Name: Reviewer Status, dtype: int64"
      ]
     },
     "execution_count": 81,
     "metadata": {},
     "output_type": "execute_result"
    }
   ],
   "source": [
    "df['Reviewer Status'].value_counts()"
   ]
  },
  {
   "cell_type": "code",
   "execution_count": 82,
   "metadata": {},
   "outputs": [
    {
     "data": {
      "text/plain": [
       "5    13\n",
       "1     3\n",
       "3     1\n",
       "2     1\n",
       "4     1\n",
       "Name: Star, dtype: int64"
      ]
     },
     "execution_count": 82,
     "metadata": {},
     "output_type": "execute_result"
    }
   ],
   "source": [
    "df['Star'].value_counts()"
   ]
  },
  {
   "cell_type": "code",
   "execution_count": 24,
   "metadata": {},
   "outputs": [
    {
     "data": {
      "text/plain": [
       "Text(0, 0.5, 'Count')"
      ]
     },
     "execution_count": 24,
     "metadata": {},
     "output_type": "execute_result"
    },
    {
     "data": {
      "image/png": "[encoded data removed]",
      "text/plain": [
       "<Figure size 640x480 with 1 Axes>"
      ]
     },
     "metadata": {},
     "output_type": "display_data"
    }
   ],
   "source": [
    "# Membuat count plot menggunakan seaborn\n",
    "sns.countplot(data=df, x='Reviewer Status')\n",
    "\n",
    "# Memberikan judul dan label sumbu\n",
    "plt.title('Count of Reviewer Status')\n",
    "plt.xlabel('Values')\n",
    "plt.ylabel('Count')\n"
   ]
  },
  {
   "cell_type": "code",
   "execution_count": 25,
   "metadata": {},
   "outputs": [
    {
     "data": {
      "text/plain": [
       "Text(0, 0.5, 'Count')"
      ]
     },
     "execution_count": 25,
     "metadata": {},
     "output_type": "execute_result"
    },
    {
     "data": {
      "image/png": "[encoded data removed]",
      "text/plain": [
       "<Figure size 640x480 with 1 Axes>"
      ]
     },
     "metadata": {},
     "output_type": "display_data"
    }
   ],
   "source": [
    "# Membuat count plot menggunakan seaborn\n",
    "sns.countplot(data=df, x='Star')\n",
    "\n",
    "# Memberikan judul dan label sumbu\n",
    "plt.title('Count of Stars')\n",
    "plt.xlabel('Star Rate')\n",
    "plt.ylabel('Count')"
   ]
  },
  {
   "cell_type": "code",
   "execution_count": 83,
   "metadata": {},
   "outputs": [
    {
     "data": {
      "text/html": [
       "<div>\n",
       "<style scoped>\n",
       "    .dataframe tbody tr th:only-of-type {\n",
       "        vertical-align: middle;\n",
       "    }\n",
       "\n",
       "    .dataframe tbody tr th {\n",
       "        vertical-align: top;\n",
       "    }\n",
       "\n",
       "    .dataframe thead th {\n",
       "        text-align: right;\n",
       "    }\n",
       "</style>\n",
       "<table border=\"1\" class=\"dataframe\">\n",
       "  <thead>\n",
       "    <tr style=\"text-align: right;\">\n",
       "      <th></th>\n",
       "      <th>Name</th>\n",
       "      <th>Reviewer Status</th>\n",
       "      <th>Total Reviews</th>\n",
       "      <th>Year</th>\n",
       "      <th>Star</th>\n",
       "      <th>Comment</th>\n",
       "    </tr>\n",
       "  </thead>\n",
       "  <tbody>\n",
       "    <tr>\n",
       "      <th>0</th>\n",
       "      <td>Agmarina Vica Mayelsa</td>\n",
       "      <td>Local Guide</td>\n",
       "      <td>56</td>\n",
       "      <td>setahun lalu</td>\n",
       "      <td>5</td>\n",
       "      <td>Kesini hari minggu ternyata buka karena sempet...</td>\n",
       "    </tr>\n",
       "    <tr>\n",
       "      <th>1</th>\n",
       "      <td>Seka Riye</td>\n",
       "      <td>Non Local Guide</td>\n",
       "      <td>1</td>\n",
       "      <td>2 minggu lalu</td>\n",
       "      <td>1</td>\n",
       "      <td>Awal cerita saya ke ahas, mengeluhkan vario 15...</td>\n",
       "    </tr>\n",
       "    <tr>\n",
       "      <th>2</th>\n",
       "      <td>dini hidayah</td>\n",
       "      <td>Local Guide</td>\n",
       "      <td>78</td>\n",
       "      <td>2 minggu lalu</td>\n",
       "      <td>5</td>\n",
       "      <td>Pelayanan cepat, antri pun ngga lama. Ganti ol...</td>\n",
       "    </tr>\n",
       "    <tr>\n",
       "      <th>3</th>\n",
       "      <td>typh</td>\n",
       "      <td>Local Guide</td>\n",
       "      <td>26</td>\n",
       "      <td>sebulan lalu</td>\n",
       "      <td>1</td>\n",
       "      <td>Rem belakang seret, piston d kasih stempet doa...</td>\n",
       "    </tr>\n",
       "    <tr>\n",
       "      <th>4</th>\n",
       "      <td>Alfiah</td>\n",
       "      <td>Non Local Guide</td>\n",
       "      <td>2</td>\n",
       "      <td>5 bulan lalu</td>\n",
       "      <td>5</td>\n",
       "      <td>Staff dan mechanic sangat ramah.. Disediain ai...</td>\n",
       "    </tr>\n",
       "  </tbody>\n",
       "</table>\n",
       "</div>"
      ],
      "text/plain": [
       "                    Name  Reviewer Status  Total Reviews           Year Star  \\\n",
       "0  Agmarina Vica Mayelsa     Local Guide              56   setahun lalu    5   \n",
       "1              Seka Riye  Non Local Guide              1  2 minggu lalu    1   \n",
       "2           dini hidayah     Local Guide              78  2 minggu lalu    5   \n",
       "3                   typh     Local Guide              26   sebulan lalu    1   \n",
       "4                 Alfiah  Non Local Guide              2   5 bulan lalu    5   \n",
       "\n",
       "                                             Comment  \n",
       "0  Kesini hari minggu ternyata buka karena sempet...  \n",
       "1  Awal cerita saya ke ahas, mengeluhkan vario 15...  \n",
       "2  Pelayanan cepat, antri pun ngga lama. Ganti ol...  \n",
       "3  Rem belakang seret, piston d kasih stempet doa...  \n",
       "4  Staff dan mechanic sangat ramah.. Disediain ai...  "
      ]
     },
     "execution_count": 83,
     "metadata": {},
     "output_type": "execute_result"
    }
   ],
   "source": [
    "df.head()"
   ]
  },
  {
   "cell_type": "code",
   "execution_count": 26,
   "metadata": {},
   "outputs": [
    {
     "data": {
      "image/png": "[encoded data removed]",
      "text/plain": [
       "<Figure size 640x480 with 1 Axes>"
      ]
     },
     "metadata": {},
     "output_type": "display_data"
    }
   ],
   "source": [
    "bins = [0, 10, 20, 30, 50]\n",
    "labels = ['D', 'C', 'B', 'A']\n",
    "\n",
    "df['Level Contribute'] = pd.cut(df['Total Reviews'], bins=bins, labels=labels)\n",
    "# Visualisasi menggunakan count plot\n",
    "sns.countplot(data=df, x='Level Contribute')\n",
    "\n",
    "plt.show()\n"
   ]
  },
  {
   "cell_type": "code",
   "execution_count": 39,
   "metadata": {},
   "outputs": [
    {
     "name": "stdout",
     "output_type": "stream",
     "text": [
      "['This Sunday was open because I was around but it was closed huhu.His sister patiently asked us to need any improvement.Continue to be provided water for drinking and can even make your own coffee.Mas, the mechanic is also patient listening to ... others', 'The beginning of my story to AHAS, complained about Vario 150 wheels of rocking when driving, the employees want to check, the employee said the cause of the front wheel was already bald and had to be replaced, and I just said it, in my heart how the story ...', 'Fast service, queuing not long.Change the axle oil and the side of the cakek watwet.The location of the right front of Pertamina is delicious after service can be directly filled with gasoline', 'Rear brakes drag, piston and give a stamp ... the next day again ... want to go back again k repair shop eh it turns out that Friday is closed ...\\nMoving KAHAS MPM Ngagel ... Change the brake master turns out to be \\U0001fae3👌👍🏼 ...', 'Staff and mechanic are very friendly ... Aqua water provided can also make coffee ... transparent in telling the problem of motorbikes and the best advice for customers ... Services at AHASS Dinoyo are very satisfying .. ❤👍 ...', 'The service and technique are quite good.But unfortunately the parts are incomplete', 'The mechanics are good', 'The mechanic is good honest hahah .. not worried if the service here ... the damage does not exist', 'The service experience here staff and mechanics are friendly, serving well and nimble, given information if there are parts that must be replaced and if still good will be informed there is nothing to be replaced, very transparent and honest, ... other', 'Very recommendations once service here because of cheap spare parts, mechanics are very experienced.Very satisfied today service here.I hope it remains consistent and better', 'Change how much', 'Good service', 'Excellent Service !!\\nTransparent price.\\nHonest mechanics.… Other', 'Friendly Frontline & Mechanic.They wash the motorcycle after finishing its service.Other', 'Comment not found', 'Comment not found', 'Comment not found', 'Comment not found', 'Comment not found']\n"
     ]
    }
   ],
   "source": [
    "comments = df['Comment'].values.tolist()\n",
    "translated_comments = []\n",
    "\n",
    "# Menerjemahkan setiap elemen dalam list comments\n",
    "for comment in comments:\n",
    "    terjemahan = translator.translate(comment, src='id', dest='en')\n",
    "    translated_comments.append(terjemahan.text)\n",
    "    \n",
    "print(translated_comments)\n"
   ]
  },
  {
   "cell_type": "code",
   "execution_count": 43,
   "metadata": {},
   "outputs": [
    {
     "name": "stdout",
     "output_type": "stream",
     "text": [
      "Pos :  11\n",
      "Neg :  3\n",
      "Not Both :  5\n"
     ]
    }
   ],
   "source": [
    "neg = 0\n",
    "pos = 0\n",
    "not_both = 0\n",
    "\n",
    "\n",
    "for comment in translated_comments:\n",
    "    blob = TextBlob(comment)\n",
    "    sentiment = blob.sentiment.polarity\n",
    "\n",
    "    if sentiment > 0:\n",
    "        pos += 1\n",
    "    elif sentiment < 0:\n",
    "        neg += 1\n",
    "    else:\n",
    "        not_both += 1\n",
    "        \n",
    "print(\"Pos : \", pos)\n",
    "print(\"Neg : \", neg)\n",
    "print(\"Not Both : \", not_both)"
   ]
  }
 ],
 "metadata": {
  "kernelspec": {
   "display_name": "base",
   "language": "python",
   "name": "python3"
  },
  "language_info": {
   "codemirror_mode": {
    "name": "ipython",
    "version": 3
   },
   "file_extension": ".py",
   "mimetype": "text/x-python",
   "name": "python",
   "nbconvert_exporter": "python",
   "pygments_lexer": "ipython3",
   "version": "3.9.16"
  },
  "orig_nbformat": 4
 },
 "nbformat": 4,
 "nbformat_minor": 2
}
