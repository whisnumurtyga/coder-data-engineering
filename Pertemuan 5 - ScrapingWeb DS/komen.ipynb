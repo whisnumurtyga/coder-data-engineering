{
 "cells": [
  {
   "attachments": {},
   "cell_type": "markdown",
   "metadata": {},
   "source": [
    "# README\n",
    "\n",
    "1. Install Selenium\n",
    "2. Install Web Driver yang digunakan (misal chrome install web driver chrome, misal edge instal web driver edge) - versinya sesuaikan\n",
    "3. Akses Maps Menggunakan Place Id (Search Place Id Finder buat cari)\n",
    "4. Inspect Element"
   ]
  },
  {
   "attachments": {},
   "cell_type": "markdown",
   "metadata": {},
   "source": [
    "### Import Library"
   ]
  },
  {
   "cell_type": "code",
   "execution_count": 66,
   "metadata": {},
   "outputs": [],
   "source": [
    "from selenium import webdriver\n",
    "from selenium.webdriver.common.by import By\n",
    "from selenium.webdriver.support.ui import WebDriverWait\n",
    "from selenium.webdriver.support import expected_conditions as EC\n",
    "import time\n",
    "import pandas as pd\n",
    "from itertools import zip_longest\n",
    "import seaborn as sns\n",
    "import matplotlib.pyplot as plt\n"
   ]
  },
  {
   "attachments": {},
   "cell_type": "markdown",
   "metadata": {},
   "source": [
    "### Konfigurasi Web Driver"
   ]
  },
  {
   "cell_type": "code",
   "execution_count": 67,
   "metadata": {},
   "outputs": [],
   "source": [
    "# Konfigurasi WebDriver\n",
    "options = webdriver.EdgeOptions()\n",
    "options.use_chromium = True\n",
    "# options.add_argument(\"headless\")  # Untuk menjalankan browser dalam mode headless\n",
    "driver = webdriver.Edge(options=options)\n",
    "wait = WebDriverWait(driver, 5)\n",
    "\n"
   ]
  },
  {
   "attachments": {},
   "cell_type": "markdown",
   "metadata": {},
   "source": [
    "### Tentukan target lokasi"
   ]
  },
  {
   "cell_type": "code",
   "execution_count": 68,
   "metadata": {},
   "outputs": [],
   "source": [
    "# Buka halaman Google Maps berdasarkan place id\n",
    "ahass_panglima_jaya = \"ChIJy8o9kNH71y0RMPCH2a8jyIE\"\n",
    "ahass_mutiara_motor = \"ChIJM7Q_Ns371y0RgsVCneDEVvw\"\n",
    "ahass_dinoyo = \"ChIJC1wN5bD71y0RwmNs98Ch4OE\"\n",
    "itts = \"ChIJHVqSy9H71y0RnwWbLgvLvh0\"\n",
    "\n",
    "# driver.get(f'https://www.google.com/maps/place/?q=place_id:{ahass_panglima_jaya}')\n",
    "# driver.get(f'https://www.google.com/maps/place/?q=place_id:{ahass_mutiara_motor}')\n",
    "driver.get(f'https://www.google.com/maps/place/?q=place_id:{ahass_dinoyo}')\n",
    "# driver.get(f'https://www.google.com/maps/place/?q=place_id:{itts}')"
   ]
  },
  {
   "attachments": {},
   "cell_type": "markdown",
   "metadata": {},
   "source": [
    "###  Karena letak komen dan review ada di sidebar, pastikan elemen tersebut bisa kita akses"
   ]
  },
  {
   "cell_type": "code",
   "execution_count": 69,
   "metadata": {},
   "outputs": [],
   "source": [
    "\n",
    "sidebar = wait.until(EC.presence_of_element_located((By.ID, 'QA0Szd')))"
   ]
  },
  {
   "attachments": {},
   "cell_type": "markdown",
   "metadata": {},
   "source": [
    "### Define Sidebar Konten untuk di scrool (karena sidebar ada 2 colom, colom button, dan kolom konten)"
   ]
  },
  {
   "cell_type": "code",
   "execution_count": 70,
   "metadata": {},
   "outputs": [],
   "source": [
    "# Define the element to scroll\n",
    "element_to_scroll = sidebar.find_element(By.CSS_SELECTOR, '#QA0Szd > div > div > div.w6VYqd > div.bJzME.tTVLSc > div > div.e07Vkf.kA9KIf > div > div')"
   ]
  },
  {
   "attachments": {},
   "cell_type": "markdown",
   "metadata": {},
   "source": [
    "### Define Fungsi untuk scrool"
   ]
  },
  {
   "cell_type": "code",
   "execution_count": 71,
   "metadata": {},
   "outputs": [],
   "source": [
    "# Function to scroll to the element\n",
    "def scroll_to_element(element):\n",
    "    driver.execute_script(\"arguments[0].scrollIntoView(false);\", element)\n",
    "    \n",
    "    time.sleep(5)  # Wait for 5 seconds after scrolling"
   ]
  },
  {
   "attachments": {},
   "cell_type": "markdown",
   "metadata": {},
   "source": [
    "### Scrool sampe button more review ditemukan"
   ]
  },
  {
   "cell_type": "code",
   "execution_count": 72,
   "metadata": {},
   "outputs": [],
   "source": [
    "# Scroll until the \"More reviews\" button is visible\n",
    "button_more_reviews = None\n",
    "while not button_more_reviews:\n",
    "    try:\n",
    "        button_more_reviews = element_to_scroll.find_element(By.CSS_SELECTOR, 'div > button[aria-label*=\"ulasan lainnya\" i], div > button[aria-label*=\"reviews\" i]')\n",
    "    except:\n",
    "        scroll_to_element(element_to_scroll)"
   ]
  },
  {
   "attachments": {},
   "cell_type": "markdown",
   "metadata": {},
   "source": [
    "### Memastikan elemen button tampil dan siap di klik"
   ]
  },
  {
   "cell_type": "code",
   "execution_count": 73,
   "metadata": {},
   "outputs": [],
   "source": [
    "# Scroll a bit more to ensure the button is fully visible\n",
    "scroll_to_element(button_more_reviews)\n",
    "time.sleep(5)\n",
    "\n",
    "# Wait until the button is clickable\n",
    "wait = WebDriverWait(driver, 5)\n",
    "button_more_reviews = wait.until(EC.element_to_be_clickable((By.CSS_SELECTOR, 'div > button[aria-label*=\"ulasan lainnya\" i], div > button[aria-label*=\"reviews\" i]')))\n"
   ]
  },
  {
   "attachments": {},
   "cell_type": "markdown",
   "metadata": {},
   "source": [
    "### Klik Button "
   ]
  },
  {
   "cell_type": "code",
   "execution_count": 74,
   "metadata": {},
   "outputs": [],
   "source": [
    "# Click the \"More reviews\" button\n",
    "button_more_reviews.click()"
   ]
  },
  {
   "attachments": {},
   "cell_type": "markdown",
   "metadata": {},
   "source": [
    "### Define Sidebar Baru (setelah kita klik tombol reviews)"
   ]
  },
  {
   "cell_type": "code",
   "execution_count": 75,
   "metadata": {},
   "outputs": [],
   "source": [
    "element_to_scroll = sidebar.find_element(By.CSS_SELECTOR, '#QA0Szd > div > div > div.w6VYqd > div.bJzME.tTVLSc > div > div.e07Vkf.kA9KIf > div > div > div.m6QErb.DxyBCb.kA9KIf.dS8AEf')"
   ]
  },
  {
   "attachments": {},
   "cell_type": "markdown",
   "metadata": {},
   "source": [
    "### Buat Fungsi baru untuk auto scrolling sampai bawah"
   ]
  },
  {
   "cell_type": "code",
   "execution_count": 76,
   "metadata": {},
   "outputs": [],
   "source": [
    "# Fungsi untuk melakukan scroll ke bawah\n",
    "def scroll_to_bottom(element):\n",
    "    driver.execute_script(\"arguments[0].scrollTop = arguments[0].scrollHeight\", element)\n",
    "    time.sleep(10)  # Jeda 10 detik setelah melakukan scroll\n"
   ]
  },
  {
   "attachments": {},
   "cell_type": "markdown",
   "metadata": {},
   "source": [
    "### Jalankan auto scrooling sampai limit scrool habis/ pentokin"
   ]
  },
  {
   "cell_type": "code",
   "execution_count": 77,
   "metadata": {},
   "outputs": [],
   "source": [
    "# Lakukan scroll ke bawah sampai mentok\n",
    "limit_scrool = 2\n",
    "while True:\n",
    "    previous_height = driver.execute_script(\"return arguments[0].scrollHeight\", element_to_scroll)\n",
    "    scroll_to_bottom(element_to_scroll)\n",
    "    current_height = driver.execute_script(\"return arguments[0].scrollHeight\", element_to_scroll)\n",
    "    if current_height == previous_height or limit_scrool == 0:\n",
    "        break\n",
    "    limit_scrool -= 1"
   ]
  },
  {
   "attachments": {},
   "cell_type": "markdown",
   "metadata": {},
   "source": [
    "### Cari elemen html yang mau kita cari dari komen section (nama-status-year-star-comments)"
   ]
  },
  {
   "cell_type": "code",
   "execution_count": 78,
   "metadata": {},
   "outputs": [
    {
     "name": "stdout",
     "output_type": "stream",
     "text": [
      "2\n",
      "1\n",
      "2\n",
      "2\n",
      "1\n",
      "1\n",
      "1\n",
      "1\n",
      "1\n",
      "1\n",
      "2\n",
      "2\n",
      "1\n",
      "1\n",
      "1\n",
      "2\n",
      "1\n",
      "1\n",
      "1\n",
      "1\n",
      "1\n",
      "1\n",
      "2\n",
      "2\n",
      "1\n",
      "2\n",
      "2\n",
      "2\n",
      "1\n",
      "1\n"
     ]
    }
   ],
   "source": [
    "names = driver.find_elements(By.CSS_SELECTOR, 'div.d4r55')\n",
    "status = driver.find_elements(By.CSS_SELECTOR, 'div.RfnDt')\n",
    "year = driver.find_elements(By.CSS_SELECTOR, 'div.DU9Pgb span.rsqaWe')\n",
    "\n",
    "star = driver.find_elements(By.CSS_SELECTOR, 'span.kvMYJc[aria-label*=\"stars\"]')\n",
    "if (len(star) < 1) : #buat validasi bahasa\n",
    "    star = driver.find_elements(By.CSS_SELECTOR, 'span.kvMYJc[aria-label*=\"bintang\"]')\n",
    "\n",
    "comments = driver.find_elements(By.CSS_SELECTOR, 'div.MyEned')\n",
    "\n",
    "for st in status:\n",
    "    print(len(st.text.split('·')))"
   ]
  },
  {
   "attachments": {},
   "cell_type": "markdown",
   "metadata": {},
   "source": [
    "### Check sebelum insert"
   ]
  },
  {
   "cell_type": "code",
   "execution_count": 79,
   "metadata": {},
   "outputs": [
    {
     "name": "stdout",
     "output_type": "stream",
     "text": [
      "len names 30\n",
      "len status 30\n",
      "len year 30\n",
      "len star 30\n",
      "len comments 30\n"
     ]
    }
   ],
   "source": [
    "name_list = []\n",
    "reviewer_status_list = []\n",
    "total_reviews_list = []\n",
    "year_list = []\n",
    "star_list = []\n",
    "comment_list = []\n",
    "\n",
    "print(\"len names\", len(names))\n",
    "print(\"len status\", len(status))\n",
    "print(\"len year\", len(year))\n",
    "print(\"len star\", len(star))\n",
    "print(\"len comments\", len(comments))"
   ]
  },
  {
   "cell_type": "code",
   "execution_count": 80,
   "metadata": {},
   "outputs": [
    {
     "name": "stdout",
     "output_type": "stream",
     "text": [
      "\n",
      "Name: Rosyid Abdillah\n",
      "Reviewer Status : Local Guide \n",
      "Total Reviews :  10 ulasan\n",
      "Periode: 6 bulan lalu\n",
      "Star: 5\n",
      "Comment: salah satu opsi terbaik untuk studi lanjut dibidang IT. Karena dibawa naungan BUMN terbaik negeri, kedepan tentu akan jadi salah satu perguruan tinggi ternama di Jatim dan Indoensia\n",
      "---\n",
      "\n",
      "Name: Alea Tania\n",
      "Status: 6 ulasan\n",
      "Reviewer Status: Non Local Guide\n",
      "Periode: 6 bulan lalu\n",
      "Star: 5\n",
      "Comment: Salah satu kampus terbaik dengan era digital dan mampu mengembangkan banyak inovasi baru dengan perkembangan teknologi yang semakin besar.\n",
      "---\n",
      "\n",
      "Name: firdy\n",
      "Reviewer Status : Local Guide \n",
      "Total Reviews :  30 ulasan\n",
      "Periode: 2 minggu lalu\n",
      "Star: 5\n",
      "Comment: mau cari kampus swasta terbaik? ya disini tempatnya😍 …\n",
      "---\n",
      "\n",
      "Name: Titin Widowati\n",
      "Reviewer Status : Local Guide \n",
      "Total Reviews :  13 ulasan\n",
      "Periode: 4 minggu lalu\n",
      "Star: 5\n",
      "Comment: Berkunjung ke sini pengen jalan jalan aja lihat kampus. Securitynya raaamaaah...\n",
      "---\n",
      "\n",
      "Name: Jengala Semesta\n",
      "Status: 1 ulasan\n",
      "Reviewer Status: Non Local Guide\n",
      "Periode: seminggu lalu\n",
      "Star: 5\n",
      "Comment: Saya lihat kampus ini keren & bersih. Jurusan Teknologi disini juga bagus2 dan milenial banget. Setau saya, ada jurusan Bisnis Digital, Teknologi Informasi, Sistem Informasi, Informatika, Sains Data,\n",
      "Telekomunikasi, dll..\n",
      "---\n",
      "\n",
      "Name: Heri Kusmawan\n",
      "Status: 2 ulasan\n",
      "Reviewer Status: Non Local Guide\n",
      "Periode: seminggu lalu\n",
      "Star: 5\n",
      "Comment: Kampus yang luar biasa Gedungnya Gede lokasinya mantap fasilitas oke  punyaan Telkom BUMN ke depan pasti akan menjadi kampus ternama di Indonesia\n",
      "---\n",
      "\n",
      "Name: nur rokhmah\n",
      "Status: 5 ulasan\n",
      "Reviewer Status: Non Local Guide\n",
      "Periode: seminggu lalu\n",
      "Star: 5\n",
      "Comment: kampus impian generasi milenial, sarpras lengkap, aman dan nyaman. Lokasi strategis di pusat kota Surabaya\n",
      "---\n",
      "\n",
      "Name: Aprillio Pangestu\n",
      "Status: 12 ulasan\n",
      "Reviewer Status: Non Local Guide\n",
      "Periode: seminggu lalu\n",
      "Star: 5\n",
      "Comment: Kampus bagus untuk masa depan generasi bangsa, fasilitasnya yang lengkap didukung suasana dan lingkungan kampus yang nyaman, terbaik kampus IT Telkom\n",
      "---\n",
      "\n",
      "Name: Rachael Natasya\n",
      "Status: 3 ulasan\n",
      "Reviewer Status: Non Local Guide\n",
      "Periode: seminggu lalu\n",
      "Star: 5\n",
      "Comment: Kampus nya luar biasa! gedung nya keren-keren dan luas. bakalan semangat buat kuliah!\n",
      "---\n",
      "\n",
      "Name: peter imanuel\n",
      "Status: 5 ulasan\n",
      "Reviewer Status: Non Local Guide\n",
      "Periode: seminggu lalu\n",
      "Star: 5\n",
      "Comment: Bagus kampus nya.. Suasana nya juga tenang.. Fasilitas nya lengkap.. Nyaman deh kalau kuliah disini.. Dijamin betah\n",
      "---\n",
      "\n",
      "Name: Fendy Uye\n",
      "Reviewer Status : Local Guide \n",
      "Total Reviews :  14 ulasan\n",
      "Periode: seminggu lalu\n",
      "Star: 5\n",
      "Comment: Gedung kampusnya luas banget, suasanya nyaman, aman, dan asri, fasilitas lumayan lengkap.\n",
      "---\n",
      "\n",
      "Name: Asha Dyah\n",
      "Reviewer Status : Local Guide \n",
      "Total Reviews :  10 ulasan\n",
      "Periode: seminggu lalu\n",
      "Star: 5\n",
      "Comment: Kampus IT terrrrekomended di jawa timur.\n",
      "Gak nyesel deh pilih kampus disini, tempatnya juga bagus\n",
      "---\n",
      "\n",
      "Name: Solikin Solikin\n",
      "Status: 1 ulasan\n",
      "Reviewer Status: Non Local Guide\n",
      "Periode: seminggu lalu\n",
      "Star: 5\n",
      "Comment: Kampus idaman nih yang mau lanjut di bidang it,kampusnya juga luas dan bagus..\n",
      "---\n",
      "\n",
      "Name: Nora Rukma\n",
      "Status: 3 ulasan\n",
      "Reviewer Status: Non Local Guide\n",
      "Periode: seminggu lalu\n",
      "Star: 5\n",
      "Comment: Kampus yang nyaman, fasilitas good, pelayanan mantab, letak strategis dan mudah untuk diakses.\n",
      "---\n",
      "\n",
      "Name: Maz Rifan Coy\n",
      "Status: 6 ulasan\n",
      "Reviewer Status: Non Local Guide\n",
      "Periode: seminggu lalu\n",
      "Star: 5\n",
      "Comment: Salah satu kampus terbaik di Surabaya khususnya di bidang IT dan bakal jadi kampus favorit di indonesia\n",
      "---\n",
      "\n",
      "Name: firman\n",
      "Reviewer Status : Local Guide \n",
      "Total Reviews :  259 ulasan\n",
      "Periode: 6 bulan lalu\n",
      "Star: 5\n",
      "Comment: Kampusnya bersih dekat dari mana mana, dan ada wifi cornernya.\n",
      "---\n",
      "\n",
      "Name: RAB CO\n",
      "Status: 7 ulasan\n",
      "Reviewer Status: Non Local Guide\n",
      "Periode: seminggu lalu\n",
      "Star: 5\n",
      "Comment: Bisa jadi opsi untuk adik2 yang ingin melanjutkan kuliah di bidang teknologi informasi komunikasi\n",
      "---\n",
      "\n",
      "Name: Darmanto\n",
      "Status: 150 ulasan\n",
      "Reviewer Status: Non Local Guide\n",
      "Periode: 4 bulan lalu\n",
      "Star: 4\n",
      "Comment: lokasi d depan kampus unesa ketintang, jalur padat dan ramai, dekat fasilitas umum. karena hanya lihat dr luar jd hanya ini yg bs sy share.\n",
      "---\n",
      "\n",
      "Name: zainal abidin\n",
      "Status: 7 ulasan\n",
      "Reviewer Status: Non Local Guide\n",
      "Periode: seminggu lalu\n",
      "Star: 5\n",
      "Comment: Pingin belajar iT disini tempatnya, pingin sukses disini tempatnya, nyaman dan aman💪🙏 …\n",
      "---\n",
      "\n",
      "Name: Anandafebby Febby\n",
      "Status: 3 ulasan\n",
      "Reviewer Status: Non Local Guide\n",
      "Periode: seminggu lalu\n",
      "Star: 5\n",
      "Comment: sekolahnya bagus fasilitas lengkap dan terjamin kualitas sekolah tersebut\n",
      "---\n",
      "\n",
      "Name: imam wahyudi\n",
      "Status: 1 ulasan\n",
      "Reviewer Status: Non Local Guide\n",
      "Periode: seminggu lalu\n",
      "Star: 5\n",
      "Comment: Institut Teknologi Telkom Surabaya good, fasilitas oke, pelayanan oke, akses juga mudah, mantul pokoknya.\n",
      "---\n",
      "\n",
      "Name: Sat Zam\n",
      "Status: 1 ulasan\n",
      "Reviewer Status: Non Local Guide\n",
      "Periode: 4 bulan lalu\n",
      "Star: 5\n",
      "Comment: Saya sudah 13 thn gak pernah ke divre 5 baru kali ini,tempatnnya banyak perubahan..........\n",
      "---\n",
      "\n",
      "Name: Nizar Cheetah\n",
      "Reviewer Status : Local Guide \n",
      "Total Reviews :  30 ulasan\n",
      "Periode: setahun lalu\n",
      "Star: 5\n",
      "Comment: Suka bangeeett sih kalo ke sini, udaranya segar bangeeett 💙 …\n",
      "---\n",
      "\n",
      "Name: Ishlahul ummah\n",
      "Reviewer Status : Local Guide \n",
      "Total Reviews :  130 ulasan\n",
      "Periode: 2 tahun lalu\n",
      "Star: 5\n",
      "Comment: Best kampus dan tempat kerja terbaik dengan orang-orang yang tidak pernah main-main dengan pekerjaan dan tanggung jawabnya\n",
      "lingkungan asri, kelas adem, lep lengkap, dosen pasti oke, magang terjamin dan tentunya punya sertifikasi siap kerja.\n",
      "---\n",
      "\n",
      "Name: Anggun Novita\n",
      "Status: 2 ulasan\n",
      "Reviewer Status: Non Local Guide\n",
      "Periode: 10 bulan lalu\n",
      "Star: 5\n",
      "Comment: Saya lihat kampus ini keren & bersih. Jurusan Teknologi disini juga bagus2 dan milenial banget. Setau saya, ada jurusan Bisnis Digital, Teknologi Informasi, Sistem Informasi, Informatika, Sains Data, … Lainnya\n",
      "---\n",
      "\n",
      "Name: Ipoeng Anam\n",
      "Reviewer Status : Local Guide \n",
      "Total Reviews :  372 ulasan\n",
      "Periode: setahun lalu\n",
      "Star: 5\n",
      "Comment: Pencetak generasi siap kerja.. recommended 👍👍👍 …\n",
      "---\n",
      "\n",
      "Name: aji waluyo\n",
      "Reviewer Status : Local Guide \n",
      "Total Reviews :  17 ulasan\n",
      "Periode: 2 tahun lalu\n",
      "Star: 5\n",
      "Comment: Tempat yang bagus rindang banyak pohonnya masjidnya jgbesar\n",
      "---\n",
      "\n",
      "Name: Neng chipa\n",
      "Reviewer Status : Local Guide \n",
      "Total Reviews :  3 ulasan\n",
      "Periode: 6 bulan lalu\n",
      "Star: 5\n",
      "Comment: google maps terimakasih kakak.sangat membantu usaha kami\n",
      "---\n",
      "\n",
      "Name: Taufik Hayade\n",
      "Status: 198 ulasan\n",
      "Reviewer Status: Non Local Guide\n",
      "Periode: 9 bulan lalu\n",
      "Star: 4\n",
      "Comment: gedung nya GEDE BANGET.... security mas RIVAI.... ramah.... orang bondowoso.......\n",
      "---\n",
      "\n",
      "Name: Mama Rafa Channel\n",
      "Status: 1 ulasan\n",
      "Reviewer Status: Non Local Guide\n",
      "Periode: 4 bulan lalu\n",
      "Star: 5\n",
      "Comment: Kampus nya orang berduit\n",
      "---\n"
     ]
    }
   ],
   "source": [
    "\n",
    "for name, stat, year, st, comment in zip_longest(names, status, year, star, comments, fillvalue=\"\"):\n",
    "    print(\"\\nName:\", name.text)\n",
    "    name_list.append(name.text)\n",
    "    # Karena pada status bisa mereturn status reviewer dan total jumlah review, jadi kita cleaning sekalian\n",
    "    if len(stat.text.split('·')) == 2:\n",
    "        print(\"Reviewer Status :\", stat.text.split('·')[0])\n",
    "        print(\"Total Reviews :\", stat.text.split('·')[1])\n",
    "        reviewer_status_list.append(stat.text.split('·')[0])\n",
    "        total_reviews_list.append(stat.text.split('·')[1])\n",
    "    else :\n",
    "        # karena gak semua status memiliki status reviewer dan total jumlah review\n",
    "        print(\"Status:\", stat.text.split('·')[0])\n",
    "        print(\"Reviewer Status:\", \"Non Local Guide\")\n",
    "        reviewer_status_list.append(\"Non Local Guide\")\n",
    "        total_reviews_list.append(stat.text.split('·')[0])\n",
    "    print(\"Periode:\", year.text)\n",
    "    year_list.append(year.text)\n",
    "    try:\n",
    "        # Kita split karena outputnya adalah ex \"4 Bintang\"\n",
    "        print(\"Star:\", st.get_attribute('aria-label').split()[0])\n",
    "        star_list.append(st.get_attribute('aria-label').split()[0])\n",
    "    except:\n",
    "        # Kadang setelah scrool tidak tergenerate semua htmlnya (antisipasi)\n",
    "        print(\"Star: NaN\")\n",
    "        star_list.append(float('nan'))\n",
    "    try :\n",
    "        print(\"Comment:\", comment.text) \n",
    "        comment_list.append(comment.text)\n",
    "    except : \n",
    "        print(\"Comment: Comment not found\") \n",
    "        comment_list.append(\"comment not found\")\n",
    "    print(\"---\")"
   ]
  },
  {
   "attachments": {},
   "cell_type": "markdown",
   "metadata": {},
   "source": [
    "### Insert ke data frame biar rapih"
   ]
  },
  {
   "cell_type": "code",
   "execution_count": 81,
   "metadata": {},
   "outputs": [],
   "source": [
    "df = pd.DataFrame({\n",
    "    'Name': name_list,\n",
    "    'Reviewer Status': reviewer_status_list,\n",
    "    'Total Reviews': total_reviews_list,\n",
    "    'Year': year_list,\n",
    "    'Star': star_list,\n",
    "    'Comment': comment_list\n",
    "})\n"
   ]
  },
  {
   "cell_type": "code",
   "execution_count": 82,
   "metadata": {},
   "outputs": [
    {
     "data": {
      "text/html": [
       "<div>\n",
       "<style scoped>\n",
       "    .dataframe tbody tr th:only-of-type {\n",
       "        vertical-align: middle;\n",
       "    }\n",
       "\n",
       "    .dataframe tbody tr th {\n",
       "        vertical-align: top;\n",
       "    }\n",
       "\n",
       "    .dataframe thead th {\n",
       "        text-align: right;\n",
       "    }\n",
       "</style>\n",
       "<table border=\"1\" class=\"dataframe\">\n",
       "  <thead>\n",
       "    <tr style=\"text-align: right;\">\n",
       "      <th></th>\n",
       "      <th>Name</th>\n",
       "      <th>Reviewer Status</th>\n",
       "      <th>Total Reviews</th>\n",
       "      <th>Year</th>\n",
       "      <th>Star</th>\n",
       "      <th>Comment</th>\n",
       "    </tr>\n",
       "  </thead>\n",
       "  <tbody>\n",
       "    <tr>\n",
       "      <th>0</th>\n",
       "      <td>Rosyid Abdillah</td>\n",
       "      <td>Local Guide</td>\n",
       "      <td>10</td>\n",
       "      <td>6 bulan lalu</td>\n",
       "      <td>5</td>\n",
       "      <td>salah satu opsi terbaik untuk studi lanjut dib...</td>\n",
       "    </tr>\n",
       "    <tr>\n",
       "      <th>1</th>\n",
       "      <td>Alea Tania</td>\n",
       "      <td>Non Local Guide</td>\n",
       "      <td>6</td>\n",
       "      <td>6 bulan lalu</td>\n",
       "      <td>5</td>\n",
       "      <td>Salah satu kampus terbaik dengan era digital d...</td>\n",
       "    </tr>\n",
       "    <tr>\n",
       "      <th>2</th>\n",
       "      <td>firdy</td>\n",
       "      <td>Local Guide</td>\n",
       "      <td>30</td>\n",
       "      <td>2 minggu lalu</td>\n",
       "      <td>5</td>\n",
       "      <td>mau cari kampus swasta terbaik? ya disini temp...</td>\n",
       "    </tr>\n",
       "    <tr>\n",
       "      <th>3</th>\n",
       "      <td>Titin Widowati</td>\n",
       "      <td>Local Guide</td>\n",
       "      <td>13</td>\n",
       "      <td>4 minggu lalu</td>\n",
       "      <td>5</td>\n",
       "      <td>Berkunjung ke sini pengen jalan jalan aja liha...</td>\n",
       "    </tr>\n",
       "    <tr>\n",
       "      <th>4</th>\n",
       "      <td>Jengala Semesta</td>\n",
       "      <td>Non Local Guide</td>\n",
       "      <td>1</td>\n",
       "      <td>seminggu lalu</td>\n",
       "      <td>5</td>\n",
       "      <td>Saya lihat kampus ini keren &amp; bersih. Jurusan ...</td>\n",
       "    </tr>\n",
       "  </tbody>\n",
       "</table>\n",
       "</div>"
      ],
      "text/plain": [
       "              Name  Reviewer Status  Total Reviews           Year Star  \\\n",
       "0  Rosyid Abdillah     Local Guide              10   6 bulan lalu    5   \n",
       "1       Alea Tania  Non Local Guide              6   6 bulan lalu    5   \n",
       "2            firdy     Local Guide              30  2 minggu lalu    5   \n",
       "3   Titin Widowati     Local Guide              13  4 minggu lalu    5   \n",
       "4  Jengala Semesta  Non Local Guide              1  seminggu lalu    5   \n",
       "\n",
       "                                             Comment  \n",
       "0  salah satu opsi terbaik untuk studi lanjut dib...  \n",
       "1  Salah satu kampus terbaik dengan era digital d...  \n",
       "2  mau cari kampus swasta terbaik? ya disini temp...  \n",
       "3  Berkunjung ke sini pengen jalan jalan aja liha...  \n",
       "4  Saya lihat kampus ini keren & bersih. Jurusan ...  "
      ]
     },
     "execution_count": 82,
     "metadata": {},
     "output_type": "execute_result"
    }
   ],
   "source": [
    "def hapus_ulasan(nilai):\n",
    "    return nilai.split()[0]\n",
    "\n",
    "df['Total Reviews'] = df['Total Reviews'].apply(hapus_ulasan)\n",
    "df['Total Reviews'] = df['Total Reviews'].astype(int)\n",
    "\n",
    "df.head()"
   ]
  },
  {
   "cell_type": "code",
   "execution_count": 98,
   "metadata": {},
   "outputs": [
    {
     "data": {
      "text/plain": [
       "count     30\n",
       "unique     2\n",
       "top        5\n",
       "freq      28\n",
       "Name: Star, dtype: object"
      ]
     },
     "execution_count": 98,
     "metadata": {},
     "output_type": "execute_result"
    }
   ],
   "source": [
    "df['Star'].describe()"
   ]
  },
  {
   "cell_type": "code",
   "execution_count": 84,
   "metadata": {},
   "outputs": [
    {
     "data": {
      "text/plain": [
       "Non Local Guide    19\n",
       "Local Guide        11\n",
       "Name: Reviewer Status, dtype: int64"
      ]
     },
     "execution_count": 84,
     "metadata": {},
     "output_type": "execute_result"
    }
   ],
   "source": [
    "df['Reviewer Status'].value_counts()"
   ]
  },
  {
   "cell_type": "code",
   "execution_count": 85,
   "metadata": {},
   "outputs": [
    {
     "data": {
      "text/plain": [
       "5    28\n",
       "4     2\n",
       "Name: Star, dtype: int64"
      ]
     },
     "execution_count": 85,
     "metadata": {},
     "output_type": "execute_result"
    }
   ],
   "source": [
    "df['Star'].value_counts()"
   ]
  },
  {
   "cell_type": "code",
   "execution_count": 96,
   "metadata": {},
   "outputs": [
    {
     "data": {
      "text/plain": [
       "Text(0, 0.5, 'Count')"
      ]
     },
     "execution_count": 96,
     "metadata": {},
     "output_type": "execute_result"
    },
    {
     "data": {
      "image/png": "[encoded data removed]",
      "text/plain": [
       "<Figure size 640x480 with 1 Axes>"
      ]
     },
     "metadata": {},
     "output_type": "display_data"
    }
   ],
   "source": [
    "# Membuat count plot menggunakan seaborn\n",
    "sns.countplot(data=df, x='Reviewer Status')\n",
    "\n",
    "# Memberikan judul dan label sumbu\n",
    "plt.title('Count of Reviewer Status')\n",
    "plt.xlabel('Values')\n",
    "plt.ylabel('Count')\n"
   ]
  },
  {
   "cell_type": "code",
   "execution_count": 94,
   "metadata": {},
   "outputs": [
    {
     "data": {
      "text/plain": [
       "Text(0, 0.5, 'Count')"
      ]
     },
     "execution_count": 94,
     "metadata": {},
     "output_type": "execute_result"
    },
    {
     "data": {
      "image/png": "[encoded data removed]",
      "text/plain": [
       "<Figure size 640x480 with 1 Axes>"
      ]
     },
     "metadata": {},
     "output_type": "display_data"
    }
   ],
   "source": [
    "# Membuat count plot menggunakan seaborn\n",
    "sns.countplot(data=df, x='Star')\n",
    "\n",
    "# Memberikan judul dan label sumbu\n",
    "plt.title('Count of Stars')\n",
    "plt.xlabel('Star Rate')\n",
    "plt.ylabel('Count')\n"
   ]
  },
  {
   "cell_type": "code",
   "execution_count": 93,
   "metadata": {},
   "outputs": [
    {
     "data": {
      "image/png": "[encoded data removed]",
      "text/plain": [
       "<Figure size 640x480 with 1 Axes>"
      ]
     },
     "metadata": {},
     "output_type": "display_data"
    }
   ],
   "source": [
    "bins = [0, 10, 20, 30, 50]\n",
    "labels = ['D', 'C', 'B', 'A']\n",
    "\n",
    "df['Level Contribute'] = pd.cut(df['Total Reviews'], bins=bins, labels=labels)\n",
    "# Visualisasi menggunakan count plot\n",
    "sns.countplot(data=df, x='Level Contribute')\n",
    "\n",
    "plt.show()\n"
   ]
  }
 ],
 "metadata": {
  "kernelspec": {
   "display_name": "base",
   "language": "python",
   "name": "python3"
  },
  "language_info": {
   "codemirror_mode": {
    "name": "ipython",
    "version": 3
   },
   "file_extension": ".py",
   "mimetype": "text/x-python",
   "name": "python",
   "nbconvert_exporter": "python",
   "pygments_lexer": "ipython3",
   "version": "3.9.16"
  },
  "orig_nbformat": 4
 },
 "nbformat": 4,
 "nbformat_minor": 2
}
