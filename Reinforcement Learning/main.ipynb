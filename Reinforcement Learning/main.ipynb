{
 "cells": [
  {
   "cell_type": "markdown",
   "metadata": {},
   "source": [
    "# Materi by Bu Vessa Rizky Oktavia, S.Kom., M.Kom"
   ]
  },
  {
   "cell_type": "code",
   "execution_count": 17,
   "metadata": {},
   "outputs": [],
   "source": [
    "import numpy as np\n",
    "import random \n",
    "import matplotlib.pyplot as plt"
   ]
  },
  {
   "cell_type": "markdown",
   "metadata": {},
   "source": [
    "# Mendefinisikan Environtment"
   ]
  },
  {
   "cell_type": "code",
   "execution_count": 18,
   "metadata": {},
   "outputs": [],
   "source": [
    "#bikin maze representasikan dengan matrix 2d\n",
    "grid_width = 5\n",
    "grid_height = 5\n",
    "start_state = (0,0)\n",
    "# goal\n",
    "cheese_state = (4,4)\n",
    "# representasi lokasi obstacles/penghalang\n",
    "trap_states = [(1,1), (2,2), (3,3)]"
   ]
  },
  {
   "cell_type": "markdown",
   "metadata": {},
   "source": [
    "# Mendefinisikan Action"
   ]
  },
  {
   "cell_type": "code",
   "execution_count": 19,
   "metadata": {},
   "outputs": [],
   "source": [
    "# kalo di game y semakin besar semakin turun jadi y semakin kecil semakin ke atis\n",
    "actions = [(0,-1), (0,1), (-1,0), (1,0)]\n",
    "actions_name = ['Up', 'Down', 'Left', 'Right']"
   ]
  },
  {
   "cell_type": "code",
   "execution_count": 20,
   "metadata": {},
   "outputs": [
    {
     "data": {
      "text/plain": [
       "0"
      ]
     },
     "execution_count": 20,
     "metadata": {},
     "output_type": "execute_result"
    }
   ],
   "source": [
    "len(actions)\n",
    "random.randint(0,len(actions)-1)"
   ]
  },
  {
   "cell_type": "markdown",
   "metadata": {},
   "source": [
    "## Q Learning membutuhkan Q Values untuk mencatat reward yang diberikan dari action yang dilakukan"
   ]
  },
  {
   "cell_type": "code",
   "execution_count": 21,
   "metadata": {},
   "outputs": [],
   "source": [
    "# q_table tujuan intinya kita kan melakukan optimasi jadi kita pengen cheese di 4,4 dan kita di 0.0 kan banyak cara buat ke cheese dan menhindari obstacles, nah mana yang menghasilkan paling sedikit action yang dilakukan dengan mendapatkan keju\n",
    "# karena dengan action yg lebih sedikit program menjadi lebih cepat\n",
    "# nah untuk mencatat itu kita butuh bantuan q table\n",
    "q_table = np.zeros((grid_width, grid_height, len(actions)))\n"
   ]
  },
  {
   "cell_type": "code",
   "execution_count": 22,
   "metadata": {},
   "outputs": [
    {
     "name": "stdout",
     "output_type": "stream",
     "text": [
      "[[[0. 0. 0. 0.]\n",
      "  [0. 0. 0. 0.]\n",
      "  [0. 0. 0. 0.]\n",
      "  [0. 0. 0. 0.]\n",
      "  [0. 0. 0. 0.]]\n",
      "\n",
      " [[0. 0. 0. 0.]\n",
      "  [0. 0. 0. 0.]\n",
      "  [0. 0. 0. 0.]\n",
      "  [0. 0. 0. 0.]\n",
      "  [0. 0. 0. 0.]]\n",
      "\n",
      " [[0. 0. 0. 0.]\n",
      "  [0. 0. 0. 0.]\n",
      "  [0. 0. 0. 0.]\n",
      "  [0. 0. 0. 0.]\n",
      "  [0. 0. 0. 0.]]\n",
      "\n",
      " [[0. 0. 0. 0.]\n",
      "  [0. 0. 0. 0.]\n",
      "  [0. 0. 0. 0.]\n",
      "  [0. 0. 0. 0.]\n",
      "  [0. 0. 0. 0.]]\n",
      "\n",
      " [[0. 0. 0. 0.]\n",
      "  [0. 0. 0. 0.]\n",
      "  [0. 0. 0. 0.]\n",
      "  [0. 0. 0. 0.]\n",
      "  [0. 0. 0. 0.]]]\n"
     ]
    }
   ],
   "source": [
    "print(q_table)"
   ]
  },
  {
   "cell_type": "markdown",
   "metadata": {},
   "source": [
    "# MDP\n",
    "- Dia akan melakukan learning sebanyak berkali kali\n",
    "- Disaat tikus mendapatkan keju 1x kejadian itu dinamakan satu episode\n",
    "- Nah kalo ketemu kucing tikusnya mati gak bisa lanjut cari keju ini dinamakan episode tapi endingnya beda\n",
    "- Misal kalo ambil skenario gini-gini nanti kamu sad ending\n",
    "- Nah untuk mencari banyak ending pasti dibutuhkan banyak iterasi/ percobaan\n",
    "\n"
   ]
  },
  {
   "cell_type": "markdown",
   "metadata": {},
   "source": [
    "- State != Episode\n",
    "- Kalo state setiap action \n",
    "- Kalo Episode menghasilkan Ending"
   ]
  },
  {
   "cell_type": "code",
   "execution_count": 23,
   "metadata": {},
   "outputs": [],
   "source": [
    "# Hyperparameter\n",
    "total_episodes = 1000 #representasi total hasil skenario yang diinginkan\n",
    "max_steps = 100\n",
    "learning_rate = 0.8\n",
    "# discount factor itu berpengaruh ke next action/ state semakin besar nilainya semakin berpengaruh\n",
    "discount_factor = 0.9 #90% action sebelumnya berpengaruh ke action setelahnya\n",
    "# pada dasarnya sifatnya rl itu greedy, karena ketika dia mengetahui action yang rewardnya gede dia akan greedy ke action itu, nah untuk mempengaruhi pemikiran si agent dalam mengambil action eksplorasi ketimbang iterasi\n",
    "exploration_prob = 0.2\n",
    "#exploration prob itu gk boleh terlalu gede, soalnya ntar gak jadi makan kita kebanyakan eksplor :v"
   ]
  },
  {
   "cell_type": "code",
   "execution_count": 24,
   "metadata": {},
   "outputs": [],
   "source": [
    "# - Episode Reward, kira kira skenario mana sih yang reward yang paling gede\n",
    "episode_rewards = []"
   ]
  },
  {
   "cell_type": "code",
   "execution_count": 25,
   "metadata": {},
   "outputs": [],
   "source": [
    "# Function Epsilon Greedy\n",
    "def choose_action(state):\n",
    "    # random biar dia belajar sendiri dan berbagai kemungkinan dicoba\n",
    "    if (random.uniform(0,1)) < exploration_prob:\n",
    "        return random.randint(0,len(actions)-1)\n",
    "    else:\n",
    "        return np.argmax(q_table[state])"
   ]
  },
  {
   "cell_type": "code",
   "execution_count": 26,
   "metadata": {},
   "outputs": [],
   "source": [
    "# Q Learning\n",
    "# dia akan melakukan q learning di 1000 episode\n",
    "for episode in range(total_episodes):\n",
    "    state = start_state\n",
    "    done = False\n",
    "    episode_reward = 0\n",
    "    # setiap melakukan action dia geser atau gerak, jadi dia ambil 1 state\n",
    "    for step in range(max_steps):\n",
    "        # pilih aksi dan catat aksi\n",
    "        action_index = choose_action(state)\n",
    "        action = actions[action_index]\n",
    "        # print(action)\n",
    "        \n",
    "        # perbarui state sekarang, karena kita udah bergerak, untuk \n",
    "        new_state = (state[0]+action[0], state[1]+action[1])\n",
    "        # biar gk keluar arena labirin kita\n",
    "        if 0 <= new_state[0] < grid_width and 0 <= new_state[1] < grid_height:\n",
    "            # beri kondisi kalo dia sudah mencapai goal\n",
    "            if new_state == cheese_state:\n",
    "                reward = 100\n",
    "                done = True\n",
    "            # cek juga kondisinya kalo ketemu trap/jevbakan/obstacles\n",
    "            elif new_state in trap_states:\n",
    "                reward = -10\n",
    "                done = True #episode berakhir sedih karena tikus dimakan kucing\n",
    "            #  bisa aja dia gk ketmu goal maupun obstacle\n",
    "            else:\n",
    "                reward = -1 #di buang energi gk boleh lebih dari obstacles\n",
    "    \n",
    "            episode_reward += reward\n",
    "\n",
    "            # RUMUS QLEARNING\n",
    "            q_table[state][action_index] += learning_rate*(reward+discount_factor*np.max(q_table[new_state]) - q_table[state][action_index])\n",
    "            state = new_state\n",
    "        if done:\n",
    "            break\n",
    "        \n",
    "    episode_rewards.append(episode_reward)\n",
    "    \n"
   ]
  },
  {
   "cell_type": "code",
   "execution_count": 27,
   "metadata": {},
   "outputs": [
    {
     "name": "stdout",
     "output_type": "stream",
     "text": [
      "Mouse cannot get the cheese :(\n",
      "Mouse needed :  10  steps\n"
     ]
    }
   ],
   "source": [
    "#Testing\n",
    "state = start_state\n",
    "path_x = [state[0]]\n",
    "path_y = [state[1]]\n",
    "steps = 0\n",
    "\n",
    "while state!= cheese_state and steps<max_steps:\n",
    "    action_index = choose_action(state)\n",
    "    action = actions[action_index]\n",
    "    new_state = (state[0]+action[0], state[1]+action[1])\n",
    "\n",
    "    if 0<=new_state[0]<grid_width and 0<=new_state[1]<grid_height:\n",
    "        state = new_state\n",
    "        path_x.append(state[0])\n",
    "        path_y.append(state[1])\n",
    "        steps+=1\n",
    "    else:\n",
    "        break\n",
    "\n",
    "if state == cheese_state:\n",
    "    print(\"Cheese found!\")\n",
    "else:\n",
    "    print(\"Mouse cannot get the cheese :(\")\n",
    "\n",
    "print(\"Mouse needed : \",steps,\" steps\")\n"
   ]
  },
  {
   "cell_type": "code",
   "execution_count": 28,
   "metadata": {},
   "outputs": [
    {
     "data": {
      "image/png": "[encoded data removed]",
      "text/plain": [
       "<Figure size 1000x1000 with 1 Axes>"
      ]
     },
     "metadata": {},
     "output_type": "display_data"
    }
   ],
   "source": [
    "plt.figure(figsize=(10,10))\n",
    "plt.plot(path_x, path_y, marker = 'o', linestyle='-')\n",
    "plt.xlim(0, grid_width-1)\n",
    "plt.ylim(0,grid_height-1)\n",
    "plt.gca().invert_yaxis()\n",
    "plt.grid(True)\n",
    "plt.show()"
   ]
  }
 ],
 "metadata": {
  "kernelspec": {
   "display_name": "base",
   "language": "python",
   "name": "python3"
  },
  "language_info": {
   "codemirror_mode": {
    "name": "ipython",
    "version": 3
   },
   "file_extension": ".py",
   "mimetype": "text/x-python",
   "name": "python",
   "nbconvert_exporter": "python",
   "pygments_lexer": "ipython3",
   "version": "3.9.16"
  },
  "orig_nbformat": 4
 },
 "nbformat": 4,
 "nbformat_minor": 2
}
