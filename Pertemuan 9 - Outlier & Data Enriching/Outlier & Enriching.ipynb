{
 "cells": [
  {
   "cell_type": "code",
   "execution_count": 2,
   "id": "05dcdc31",
   "metadata": {},
   "outputs": [],
   "source": [
    "import warnings\n",
    "warnings.filterwarnings(\"ignore\")"
   ]
  },
  {
   "cell_type": "code",
   "execution_count": 3,
   "id": "0f70dbd1",
   "metadata": {},
   "outputs": [],
   "source": [
    "import pandas as pd\n",
    "pd.set_option('display.max_columns', None)"
   ]
  },
  {
   "cell_type": "code",
   "execution_count": 4,
   "id": "0c119ade",
   "metadata": {},
   "outputs": [
    {
     "name": "stdout",
     "output_type": "stream",
     "text": [
      " _  _____ _____  _         _    _  __    _    _   _ \n",
      "| |/ /_ _|_   _|/ \\       / \\  | |/ /   / \\  | \\ | |\n",
      "| ' / | |  | | / _ \\     / _ \\ | ' /   / _ \\ |  \\| |\n",
      "| . \\ | |  | |/ ___ \\   / ___ \\| . \\  / ___ \\| |\\  |\n",
      "|_|\\_\\___| |_/_/   \\_\\ /_/   \\_\\_|\\_\\/_/   \\_\\_| \\_|\n",
      "                                                    \n",
      " ____  _____ _        _       _   _    ____      \n",
      "| __ )| ____| |      / \\     | | / \\  |  _ \\   _ \n",
      "|  _ \\|  _| | |     / _ \\ _  | |/ _ \\ | |_) | (_)\n",
      "| |_) | |___| |___ / ___ \\ |_| / ___ \\|  _ <   _ \n",
      "|____/|_____|_____/_/   \\_\\___/_/   \\_\\_| \\_\\ (_)\n",
      "                                                 \n",
      "\n",
      "1. ALL ABOUT OUTLIER\n",
      "2. ENRICHING DATA\n",
      "                                                                   \n",
      "                                                                   \n",
      " _____ _____ _____ _____ _____ _____ _____ _____ _____ _____ _____ \n",
      "|_____|_____|_____|_____|_____|_____|_____|_____|_____|_____|_____|\n",
      "                                                                   \n",
      "                                                                   \n",
      "\n"
     ]
    }
   ],
   "source": [
    "import pyfiglet as pyf\n",
    "print(pyf.figlet_format('KITA AKAN BELAJAR :'))\n",
    "\n",
    "print('''1. ALL ABOUT OUTLIER\n",
    "2. ENRICHING DATA''')\n",
    "\n",
    "print(pyf.figlet_format('-----------'))"
   ]
  },
  {
   "cell_type": "code",
   "execution_count": 5,
   "id": "f4e41eff",
   "metadata": {},
   "outputs": [
    {
     "name": "stdout",
     "output_type": "stream",
     "text": [
      "  ___  _   _ _____ _     ___ _____ ____  \n",
      " / _ \\| | | |_   _| |   |_ _| ____|  _ \\ \n",
      "| | | | | | | | | | |    | ||  _| | |_) |\n",
      "| |_| | |_| | | | | |___ | || |___|  _ < \n",
      " \\___/ \\___/  |_| |_____|___|_____|_| \\_\\\n",
      "                                         \n",
      "\n"
     ]
    }
   ],
   "source": [
    "print(pyf.figlet_format('OUTLIER'))"
   ]
  },
  {
   "cell_type": "markdown",
   "id": "23e591c7",
   "metadata": {},
   "source": [
    "## Deteksi Outlier Menggunakan IQR"
   ]
  },
  {
   "cell_type": "code",
   "execution_count": 1,
   "id": "0716d3b6",
   "metadata": {},
   "outputs": [
    {
     "ename": "NameError",
     "evalue": "name 'Image' is not defined",
     "output_type": "error",
     "traceback": [
      "\u001b[1;31m---------------------------------------------------------------------------\u001b[0m",
      "\u001b[1;31mNameError\u001b[0m                                 Traceback (most recent call last)",
      "Cell \u001b[1;32mIn[1], line 4\u001b[0m\n\u001b[0;32m      1\u001b[0m \u001b[39mimport\u001b[39;00m \u001b[39mmatplotlib\u001b[39;00m\u001b[39m.\u001b[39;00m\u001b[39mpyplot\u001b[39;00m \u001b[39mas\u001b[39;00m \u001b[39mplt\u001b[39;00m\n\u001b[0;32m      2\u001b[0m \u001b[39mimport\u001b[39;00m \u001b[39mmatplotlib\u001b[39;00m\u001b[39m.\u001b[39;00m\u001b[39mimage\u001b[39;00m \u001b[39mas\u001b[39;00m \u001b[39mmpimg\u001b[39;00m\n\u001b[1;32m----> 4\u001b[0m image1 \u001b[39m=\u001b[39m Image\u001b[39m.\u001b[39mopen(\u001b[39m'\u001b[39m\u001b[39m1_boxplots.jpg\u001b[39m\u001b[39m'\u001b[39m)\n\u001b[0;32m      5\u001b[0m image2 \u001b[39m=\u001b[39m Image\u001b[39m.\u001b[39mopen(\u001b[39m'\u001b[39m\u001b[39mbox plot.PNG\u001b[39m\u001b[39m'\u001b[39m)\n\u001b[0;32m      7\u001b[0m \u001b[39m# Create a figure with two subplots and set the figsize\u001b[39;00m\n",
      "\u001b[1;31mNameError\u001b[0m: name 'Image' is not defined"
     ]
    }
   ],
   "source": [
    "import matplotlib.pyplot as plt\n",
    "import matplotlib.image as mpimg\n",
    "\n",
    "image1 = Image.open('1_boxplots.jpg')\n",
    "image2 = Image.open('box plot.PNG')\n",
    "\n",
    "# Create a figure with two subplots and set the figsize\n",
    "fig, axs = plt.subplots(1, 2, figsize=(12, 6))\n",
    "\n",
    "# Display the first image on the left subplot\n",
    "axs[0].imshow(image1)\n",
    "axs[0].axis('off')\n",
    "axs[1].imshow(image2)\n",
    "axs[1].axis('off')\n",
    "\n",
    "# Adjust the spacing between subplots\n",
    "plt.subplots_adjust(wspace=0.05)\n",
    "\n",
    "# Tampilkan Gambarnya\n",
    "plt.show()"
   ]
  },
  {
   "cell_type": "markdown",
   "id": "fd9d013d",
   "metadata": {},
   "source": [
    "IQR mengukur sebaran data di antara kuartil pertama (Q1) dan kuartil ketiga (Q3) dalam kumpulan data. Jika suatu titik data berada di luar batas atas (Q3 + 1.5 * IQR) atau batas bawah (Q1 - 1.5 * IQR), maka data tersebut dianggap sebagai outlier."
   ]
  },
  {
   "cell_type": "code",
   "execution_count": 16,
   "id": "9eb34451",
   "metadata": {},
   "outputs": [
    {
     "name": "stdout",
     "output_type": "stream",
     "text": [
      "Outliers: [30, 100]\n"
     ]
    }
   ],
   "source": [
    "import numpy as np\n",
    "\n",
    "def detect_outliers_iqr(data):\n",
    "    # Disini didapat Quartil 1 dan Quartil 3\n",
    "    q1 = np.percentile(data, 25)\n",
    "    q3 = np.percentile(data, 75)\n",
    "\n",
    "    # Menghitung IQR - Interquartil Range - Jangkauan\n",
    "    iqr = q3 - q1\n",
    "\n",
    "    # Menghitung Batas atas dan Bawahnya, untuk menentukan jika ada nilai yang lebih dari ini maka dianggap outlier.\n",
    "    lower_bound = q1 - (1.5 * iqr)\n",
    "    upper_bound = q3 + (1.5 * iqr)\n",
    "\n",
    "    # Nah disini seperti yang aku bilang diatas adalah untuk mengidentifikasi outlier\n",
    "    outliers = [x for x in data if x < lower_bound or x > upper_bound]\n",
    "    # jika x lebih kecil dari batas bawah atau lebih besar dari batas atas maka dianggap outlier\n",
    "\n",
    "    return outliers\n",
    "\n",
    "# Contoh penggunaan\n",
    "data = [1, 2, 3, 4, 5, 6, 7, 30, 100]\n",
    "outliers = detect_outliers_iqr(data)\n",
    "print(\"Outliers:\", outliers)"
   ]
  },
  {
   "cell_type": "markdown",
   "id": "a4c08d8d",
   "metadata": {},
   "source": [
    "## Mendeteksi Outlier menggunakan Z-score"
   ]
  },
  {
   "cell_type": "markdown",
   "id": "b07ae2a4",
   "metadata": {},
   "source": [
    "Metode Z-Score adalah salah satu metode yang umum digunakan untuk mendeteksi outlier dalam data. Z-Score mengukur seberapa jauh suatu titik data dari rata-rata dalam satuan standar deviasi. Jika nilai Z-Score suatu data melebihi ambang batas tertentu, maka data tersebut dianggap sebagai outlier. Data yang signifikan jauh dari nilai rata-rata secara statistik dapat dianggap sebagai anomali atau outlier.\n",
    "\n",
    "*perlu dicatat bahwa Z-Score memiliki asumsi bahwa data di dalamnya mengikuti distribusi normal.*"
   ]
  },
  {
   "cell_type": "markdown",
   "id": "89f0ae58",
   "metadata": {},
   "source": [
    "z_scores = [(x - mean) / std_dev for x in data]"
   ]
  },
  {
   "cell_type": "code",
   "execution_count": 21,
   "id": "aacd120d",
   "metadata": {},
   "outputs": [
    {
     "name": "stdout",
     "output_type": "stream",
     "text": [
      "Outliers: [500]\n"
     ]
    }
   ],
   "source": [
    "import numpy as np\n",
    "from scipy import stats\n",
    "\n",
    "def detect_outliers_zscore(data, threshold=3):\n",
    "    # Menghitung skor Z\n",
    "    z_scores = np.abs(stats.zscore(data))\n",
    "\n",
    "    # Mengidentifikasi outlier\n",
    "    outliers = [data[i] for i, z in enumerate(z_scores) if z > threshold]\n",
    "\n",
    "    return outliers\n",
    "\n",
    "# Contoh penggunaan\n",
    "data = [10, 15, 20, 25, 30, 35, 40, 45, 50, 55, 60, 65, 70, 500]\n",
    "outliers = detect_outliers_zscore(data)\n",
    "print(\"Outliers:\", outliers)"
   ]
  },
  {
   "cell_type": "markdown",
   "id": "5a00d785",
   "metadata": {},
   "source": [
    "## Menghapus Outlier"
   ]
  },
  {
   "cell_type": "code",
   "execution_count": 25,
   "id": "1a773c52",
   "metadata": {},
   "outputs": [
    {
     "name": "stdout",
     "output_type": "stream",
     "text": [
      "Data clean: [1, 2, 3, 4, 5, 6, 7, 8, 9, 10]\n"
     ]
    }
   ],
   "source": [
    "import numpy as np\n",
    "\n",
    "def remove_outliers(data, threshold=3):\n",
    "    mean = np.mean(data)\n",
    "    std_dev = np.std(data)\n",
    "    outliers = [x for x in data if (x - mean) / std_dev > threshold]\n",
    "    data_clean = [x for x in data if x not in outliers]\n",
    "    return data_clean\n",
    "\n",
    "# Contoh penggunaan\n",
    "data = [1, 2, 3, 4, 5, 6, 7, 8, 9, 10, 100]\n",
    "data_clean = remove_outliers(data)\n",
    "print(\"Data clean:\", data_clean)"
   ]
  },
  {
   "cell_type": "markdown",
   "id": "7f62fe98",
   "metadata": {},
   "source": [
    "## Imputasi dengan nilai Logartima"
   ]
  },
  {
   "cell_type": "code",
   "execution_count": 29,
   "id": "e1d1337d",
   "metadata": {},
   "outputs": [
    {
     "name": "stdout",
     "output_type": "stream",
     "text": [
      "Data transformed: [0.         0.69314718 1.09861229 1.38629436 1.60943791 1.79175947\n",
      " 1.94591015 2.07944154 2.19722458 2.30258509 4.60517019]\n"
     ]
    }
   ],
   "source": [
    "import numpy as np\n",
    "\n",
    "def log_transform(data):\n",
    "    data_transformed = np.log(data)\n",
    "    return data_transformed\n",
    "\n",
    "# Contoh penggunaan\n",
    "data = [1, 2, 3, 4, 5, 6, 7, 8, 9, 10, 100]\n",
    "data_transformed = log_transform(data)\n",
    "print(\"Data transformed:\", data_transformed)"
   ]
  },
  {
   "cell_type": "markdown",
   "id": "4ef3674d",
   "metadata": {},
   "source": [
    "## Imputasi nilai outlier dengan nilai Mean."
   ]
  },
  {
   "cell_type": "code",
   "execution_count": 27,
   "id": "0e99c377",
   "metadata": {},
   "outputs": [
    {
     "name": "stdout",
     "output_type": "stream",
     "text": [
      "Data imputed: [1, 2, 3, 4, 5, 6, 7, 8, 9, 10, 14.090909090909092]\n"
     ]
    }
   ],
   "source": [
    "import numpy as np\n",
    "\n",
    "def impute_outliers(data, threshold=3):\n",
    "    mean = np.mean(data)\n",
    "    std_dev = np.std(data)\n",
    "    outliers = [x for x in data if (x - mean) / std_dev > threshold]\n",
    "    data_imputed = [mean if x in outliers else x for x in data]\n",
    "    return data_imputed\n",
    "\n",
    "# Contoh penggunaan\n",
    "data = [1, 2, 3, 4, 5, 6, 7, 8, 9, 10, 100]\n",
    "data_imputed = impute_outliers(data)\n",
    "print(\"Data imputed:\", data_imputed)\n"
   ]
  },
  {
   "cell_type": "code",
   "execution_count": 36,
   "id": "d0252ebd",
   "metadata": {},
   "outputs": [
    {
     "name": "stdout",
     "output_type": "stream",
     "text": [
      " _____ _   _ ____  ___ ____ _   _ ___ _   _  ____   ____    _  _____  _    \n",
      "| ____| \\ | |  _ \\|_ _/ ___| | | |_ _| \\ | |/ ___| |  _ \\  / \\|_   _|/ \\   \n",
      "|  _| |  \\| | |_) || | |   | |_| || ||  \\| | |  _  | | | |/ _ \\ | | / _ \\  \n",
      "| |___| |\\  |  _ < | | |___|  _  || || |\\  | |_| | | |_| / ___ \\| |/ ___ \\ \n",
      "|_____|_| \\_|_| \\_\\___\\____|_| |_|___|_| \\_|\\____| |____/_/   \\_\\_/_/   \\_\\\n",
      "                                                                           \n",
      "\n"
     ]
    }
   ],
   "source": [
    "print(pyf.figlet_format('ENRICHING DATA'))"
   ]
  },
  {
   "cell_type": "markdown",
   "id": "ddb1f267",
   "metadata": {},
   "source": [
    "## Menambah Kolom Baru Dari Kolom Yang Sudah Ada"
   ]
  },
  {
   "cell_type": "code",
   "execution_count": 40,
   "id": "b890b100",
   "metadata": {},
   "outputs": [
    {
     "data": {
      "text/html": [
       "<div>\n",
       "<style scoped>\n",
       "    .dataframe tbody tr th:only-of-type {\n",
       "        vertical-align: middle;\n",
       "    }\n",
       "\n",
       "    .dataframe tbody tr th {\n",
       "        vertical-align: top;\n",
       "    }\n",
       "\n",
       "    .dataframe thead th {\n",
       "        text-align: right;\n",
       "    }\n",
       "</style>\n",
       "<table border=\"1\" class=\"dataframe\">\n",
       "  <thead>\n",
       "    <tr style=\"text-align: right;\">\n",
       "      <th></th>\n",
       "      <th>Nama</th>\n",
       "      <th>Usia</th>\n",
       "      <th>Pendapatan</th>\n",
       "      <th>Pendapatan Tahunan</th>\n",
       "    </tr>\n",
       "  </thead>\n",
       "  <tbody>\n",
       "    <tr>\n",
       "      <th>0</th>\n",
       "      <td>John</td>\n",
       "      <td>25</td>\n",
       "      <td>3500</td>\n",
       "      <td>42000</td>\n",
       "    </tr>\n",
       "    <tr>\n",
       "      <th>1</th>\n",
       "      <td>Jane</td>\n",
       "      <td>32</td>\n",
       "      <td>4500</td>\n",
       "      <td>54000</td>\n",
       "    </tr>\n",
       "    <tr>\n",
       "      <th>2</th>\n",
       "      <td>Bob</td>\n",
       "      <td>45</td>\n",
       "      <td>5500</td>\n",
       "      <td>66000</td>\n",
       "    </tr>\n",
       "    <tr>\n",
       "      <th>3</th>\n",
       "      <td>Alice</td>\n",
       "      <td>27</td>\n",
       "      <td>4000</td>\n",
       "      <td>48000</td>\n",
       "    </tr>\n",
       "    <tr>\n",
       "      <th>4</th>\n",
       "      <td>Mike</td>\n",
       "      <td>20</td>\n",
       "      <td>3000</td>\n",
       "      <td>36000</td>\n",
       "    </tr>\n",
       "  </tbody>\n",
       "</table>\n",
       "</div>"
      ],
      "text/plain": [
       "    Nama  Usia  Pendapatan  Pendapatan Tahunan\n",
       "0   John    25        3500               42000\n",
       "1   Jane    32        4500               54000\n",
       "2    Bob    45        5500               66000\n",
       "3  Alice    27        4000               48000\n",
       "4   Mike    20        3000               36000"
      ]
     },
     "execution_count": 40,
     "metadata": {},
     "output_type": "execute_result"
    }
   ],
   "source": [
    "data = pd.DataFrame({\n",
    "    'Nama': ['John', 'Jane', 'Bob', 'Alice', 'Mike'],\n",
    "    'Usia': [25, 32, 45, 27, 20],\n",
    "    'Pendapatan': [3500, 4500, 5500, 4000, 3000]\n",
    "})\n",
    "\n",
    "data['Pendapatan Tahunan'] = data['Pendapatan'] * 12\n",
    "\n",
    "data"
   ]
  },
  {
   "cell_type": "markdown",
   "id": "996f03a5",
   "metadata": {},
   "source": [
    "## Menggabungkan Dataframe berdasarkan Kolom nya"
   ]
  },
  {
   "cell_type": "code",
   "execution_count": 39,
   "id": "6061b44f",
   "metadata": {},
   "outputs": [
    {
     "data": {
      "text/html": [
       "<div>\n",
       "<style scoped>\n",
       "    .dataframe tbody tr th:only-of-type {\n",
       "        vertical-align: middle;\n",
       "    }\n",
       "\n",
       "    .dataframe tbody tr th {\n",
       "        vertical-align: top;\n",
       "    }\n",
       "\n",
       "    .dataframe thead th {\n",
       "        text-align: right;\n",
       "    }\n",
       "</style>\n",
       "<table border=\"1\" class=\"dataframe\">\n",
       "  <thead>\n",
       "    <tr style=\"text-align: right;\">\n",
       "      <th></th>\n",
       "      <th>Nama</th>\n",
       "      <th>Usia</th>\n",
       "      <th>Pendapatan</th>\n",
       "    </tr>\n",
       "  </thead>\n",
       "  <tbody>\n",
       "    <tr>\n",
       "      <th>0</th>\n",
       "      <td>John</td>\n",
       "      <td>25</td>\n",
       "      <td>3500</td>\n",
       "    </tr>\n",
       "    <tr>\n",
       "      <th>1</th>\n",
       "      <td>Jane</td>\n",
       "      <td>32</td>\n",
       "      <td>4500</td>\n",
       "    </tr>\n",
       "    <tr>\n",
       "      <th>2</th>\n",
       "      <td>Bob</td>\n",
       "      <td>45</td>\n",
       "      <td>5500</td>\n",
       "    </tr>\n",
       "    <tr>\n",
       "      <th>3</th>\n",
       "      <td>Alice</td>\n",
       "      <td>27</td>\n",
       "      <td>4000</td>\n",
       "    </tr>\n",
       "    <tr>\n",
       "      <th>4</th>\n",
       "      <td>Mike</td>\n",
       "      <td>20</td>\n",
       "      <td>3000</td>\n",
       "    </tr>\n",
       "  </tbody>\n",
       "</table>\n",
       "</div>"
      ],
      "text/plain": [
       "    Nama  Usia  Pendapatan\n",
       "0   John    25        3500\n",
       "1   Jane    32        4500\n",
       "2    Bob    45        5500\n",
       "3  Alice    27        4000\n",
       "4   Mike    20        3000"
      ]
     },
     "execution_count": 39,
     "metadata": {},
     "output_type": "execute_result"
    }
   ],
   "source": [
    "import pandas as pd\n",
    "\n",
    "# Data awal\n",
    "data1 = pd.DataFrame({\n",
    "    'Nama': ['John', 'Jane', 'Bob'],\n",
    "    'Usia': [25, 32, 45],\n",
    "    'Pendapatan': [3500, 4500, 5500]\n",
    "})\n",
    "\n",
    "data2 = pd.DataFrame({\n",
    "    'Nama': ['Alice', 'Mike'],\n",
    "    'Usia': [27, 20],\n",
    "    'Pendapatan': [4000, 3000]\n",
    "})\n",
    "\n",
    "data_merged = pd.concat([data1, data2], ignore_index=True)\n",
    "\n",
    "data_merged"
   ]
  },
  {
   "cell_type": "markdown",
   "id": "80ca7e67",
   "metadata": {},
   "source": [
    "## Mengisi Missing Values dengan Nilai Tertentu"
   ]
  },
  {
   "cell_type": "code",
   "execution_count": 41,
   "id": "030067c2",
   "metadata": {},
   "outputs": [
    {
     "data": {
      "text/html": [
       "<div>\n",
       "<style scoped>\n",
       "    .dataframe tbody tr th:only-of-type {\n",
       "        vertical-align: middle;\n",
       "    }\n",
       "\n",
       "    .dataframe tbody tr th {\n",
       "        vertical-align: top;\n",
       "    }\n",
       "\n",
       "    .dataframe thead th {\n",
       "        text-align: right;\n",
       "    }\n",
       "</style>\n",
       "<table border=\"1\" class=\"dataframe\">\n",
       "  <thead>\n",
       "    <tr style=\"text-align: right;\">\n",
       "      <th></th>\n",
       "      <th>Nama</th>\n",
       "      <th>Usia</th>\n",
       "      <th>Pendapatan</th>\n",
       "    </tr>\n",
       "  </thead>\n",
       "  <tbody>\n",
       "    <tr>\n",
       "      <th>0</th>\n",
       "      <td>John</td>\n",
       "      <td>25.0</td>\n",
       "      <td>3500.0</td>\n",
       "    </tr>\n",
       "    <tr>\n",
       "      <th>1</th>\n",
       "      <td>Jane</td>\n",
       "      <td>30.0</td>\n",
       "      <td>4500.0</td>\n",
       "    </tr>\n",
       "    <tr>\n",
       "      <th>2</th>\n",
       "      <td>Bob</td>\n",
       "      <td>45.0</td>\n",
       "      <td>4000.0</td>\n",
       "    </tr>\n",
       "    <tr>\n",
       "      <th>3</th>\n",
       "      <td>Alice</td>\n",
       "      <td>30.0</td>\n",
       "      <td>4000.0</td>\n",
       "    </tr>\n",
       "    <tr>\n",
       "      <th>4</th>\n",
       "      <td>Mike</td>\n",
       "      <td>20.0</td>\n",
       "      <td>4000.0</td>\n",
       "    </tr>\n",
       "  </tbody>\n",
       "</table>\n",
       "</div>"
      ],
      "text/plain": [
       "    Nama  Usia  Pendapatan\n",
       "0   John  25.0      3500.0\n",
       "1   Jane  30.0      4500.0\n",
       "2    Bob  45.0      4000.0\n",
       "3  Alice  30.0      4000.0\n",
       "4   Mike  20.0      4000.0"
      ]
     },
     "execution_count": 41,
     "metadata": {},
     "output_type": "execute_result"
    }
   ],
   "source": [
    "import pandas as pd\n",
    "\n",
    "# Data awal\n",
    "data = pd.DataFrame({\n",
    "    'Nama': ['John', 'Jane', 'Bob', 'Alice', 'Mike'],\n",
    "    'Usia': [25, None, 45, None, 20],\n",
    "    'Pendapatan': [3500, 4500, None, 4000, None]\n",
    "})\n",
    "\n",
    "mean_usia = data['Usia'].mean()\n",
    "data['Usia'].fillna(mean_usia, inplace=True)\n",
    "\n",
    "median_pendapatan = data['Pendapatan'].median()\n",
    "data['Pendapatan'].fillna(median_pendapatan, inplace=True)\n",
    "\n",
    "data"
   ]
  },
  {
   "cell_type": "markdown",
   "id": "2c2567be",
   "metadata": {},
   "source": [
    "## enriching data dengan teknik pengubahan skala (scaling) menggunakan MinMaxScaler"
   ]
  },
  {
   "cell_type": "code",
   "execution_count": 46,
   "id": "826b1b54",
   "metadata": {},
   "outputs": [
    {
     "name": "stdout",
     "output_type": "stream",
     "text": [
      "   Usia  Pendapatan\n",
      "0  0.20         0.2\n",
      "1  0.48         0.6\n",
      "2  1.00         1.0\n",
      "3  0.28         0.4\n",
      "4  0.00         0.0\n"
     ]
    }
   ],
   "source": [
    "import pandas as pd\n",
    "from sklearn.preprocessing import MinMaxScaler\n",
    "\n",
    "# Data awal\n",
    "data = pd.DataFrame({\n",
    "    'Usia': [25, 32, 45, 27, 20],\n",
    "    'Pendapatan': [3500, 4500, 5500, 4000, 3000]\n",
    "})\n",
    "\n",
    "# Menerapkan scaling menggunakan MinMaxScaler\n",
    "scaler = MinMaxScaler()\n",
    "data_enriched = scaler.fit_transform(data)\n",
    "\n",
    "# Membuat dataframe baru dengan data yang telah diubah skala\n",
    "data_enriched = pd.DataFrame(data_enriched, columns=data.columns)\n",
    "\n",
    "print(data_enriched)"
   ]
  }
 ],
 "metadata": {
  "kernelspec": {
   "display_name": "Python 3 (ipykernel)",
   "language": "python",
   "name": "python3"
  },
  "language_info": {
   "codemirror_mode": {
    "name": "ipython",
    "version": 3
   },
   "file_extension": ".py",
   "mimetype": "text/x-python",
   "name": "python",
   "nbconvert_exporter": "python",
   "pygments_lexer": "ipython3",
   "version": "3.9.16"
  },
  "toc": {
   "base_numbering": 1,
   "nav_menu": {},
   "number_sections": true,
   "sideBar": true,
   "skip_h1_title": false,
   "title_cell": "Table of Contents",
   "title_sidebar": "Contents",
   "toc_cell": false,
   "toc_position": {},
   "toc_section_display": true,
   "toc_window_display": false
  }
 },
 "nbformat": 4,
 "nbformat_minor": 5
}
